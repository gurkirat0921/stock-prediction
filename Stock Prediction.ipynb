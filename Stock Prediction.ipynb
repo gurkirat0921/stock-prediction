{
 "cells": [
  {
   "cell_type": "markdown",
   "id": "5aa4a714",
   "metadata": {},
   "source": [
    "# STOCK PREDICTION"
   ]
  },
  {
   "cell_type": "markdown",
   "id": "8aa738af",
   "metadata": {},
   "source": [
    "### performed by- Gurkirat kaur"
   ]
  },
  {
   "cell_type": "markdown",
   "id": "6d65e9dd",
   "metadata": {},
   "source": [
    "#### Using Netflix Stock Dataset and predicting the price using LSTM"
   ]
  },
  {
   "cell_type": "markdown",
   "id": "cb2a5656",
   "metadata": {},
   "source": [
    "## Importing required libraries"
   ]
  },
  {
   "cell_type": "code",
   "execution_count": 1,
   "id": "17f4e1f5",
   "metadata": {},
   "outputs": [],
   "source": [
    "import sys"
   ]
  },
  {
   "cell_type": "code",
   "execution_count": 3,
   "id": "5511441f",
   "metadata": {},
   "outputs": [
    {
     "name": "stdout",
     "output_type": "stream",
     "text": [
      "Collecting package metadata (current_repodata.json): ...working... done\n",
      "Solving environment: ...working... unsuccessful initial attempt using frozen solve. Retrying with flexible solve.\n",
      "Solving environment: ...working... unsuccessful attempt using repodata from current_repodata.json, retrying with next repodata source.\n",
      "Collecting package metadata (repodata.json): ...working... done\n",
      "Solving environment: ...working... done\n",
      "\n",
      "## Package Plan ##\n",
      "\n",
      "  environment location: C:\\Users\\gaguj\\Desktop\\codsoft\\env\n",
      "\n",
      "  added / updated specs:\n",
      "    - tensorflow\n",
      "\n",
      "\n",
      "The following NEW packages will be INSTALLED:\n",
      "\n",
      "  _tflow_select      pkgs/main/win-64::_tflow_select-2.3.0-mkl \n",
      "  abseil-cpp         pkgs/main/win-64::abseil-cpp-20211102.0-hd77b12b_0 \n",
      "  absl-py            pkgs/main/win-64::absl-py-1.4.0-py310haa95532_0 \n",
      "  aiohttp            pkgs/main/win-64::aiohttp-3.8.5-py310h2bbff1b_0 \n",
      "  aiosignal          pkgs/main/noarch::aiosignal-1.2.0-pyhd3eb1b0_0 \n",
      "  astunparse         pkgs/main/noarch::astunparse-1.6.3-py_0 \n",
      "  async-timeout      pkgs/main/win-64::async-timeout-4.0.2-py310haa95532_0 \n",
      "  blinker            pkgs/main/win-64::blinker-1.6.2-py310haa95532_0 \n",
      "  c-ares             pkgs/main/win-64::c-ares-1.19.1-h2bbff1b_0 \n",
      "  cachetools         pkgs/main/noarch::cachetools-4.2.2-pyhd3eb1b0_0 \n",
      "  click              pkgs/main/win-64::click-8.0.4-py310haa95532_0 \n",
      "  flatbuffers        pkgs/main/win-64::flatbuffers-2.0.0-h6c2663c_0 \n",
      "  frozenlist         pkgs/main/win-64::frozenlist-1.3.3-py310h2bbff1b_0 \n",
      "  gast               pkgs/main/noarch::gast-0.4.0-pyhd3eb1b0_0 \n",
      "  google-auth        pkgs/main/win-64::google-auth-2.22.0-py310haa95532_0 \n",
      "  google-auth-oauth~ pkgs/main/noarch::google-auth-oauthlib-0.4.4-pyhd3eb1b0_0 \n",
      "  google-pasta       pkgs/main/noarch::google-pasta-0.2.0-pyhd3eb1b0_0 \n",
      "  grpc-cpp           pkgs/main/win-64::grpc-cpp-1.48.2-hf108199_0 \n",
      "  grpcio             pkgs/main/win-64::grpcio-1.48.2-py310hf108199_0 \n",
      "  gst-plugins-base   pkgs/main/win-64::gst-plugins-base-1.18.5-h9e645db_0 \n",
      "  gstreamer          pkgs/main/win-64::gstreamer-1.18.5-hd78058f_0 \n",
      "  h5py               pkgs/main/win-64::h5py-3.9.0-py310hfc34f40_0 \n",
      "  hdf5               pkgs/main/win-64::hdf5-1.12.1-h51c971a_3 \n",
      "  keras              pkgs/main/win-64::keras-2.10.0-py310haa95532_0 \n",
      "  keras-preprocessi~ pkgs/main/noarch::keras-preprocessing-1.1.2-pyhd3eb1b0_0 \n",
      "  libcurl            pkgs/main/win-64::libcurl-8.4.0-h86230a5_0 \n",
      "  libogg             pkgs/main/win-64::libogg-1.3.5-h2bbff1b_1 \n",
      "  libprotobuf        pkgs/main/win-64::libprotobuf-3.20.3-h23ce68f_0 \n",
      "  libssh2            pkgs/main/win-64::libssh2-1.10.0-hcd4344a_2 \n",
      "  libvorbis          pkgs/main/win-64::libvorbis-1.3.7-he774522_0 \n",
      "  markdown           pkgs/main/win-64::markdown-3.4.1-py310haa95532_0 \n",
      "  multidict          pkgs/main/win-64::multidict-6.0.2-py310h2bbff1b_0 \n",
      "  oauthlib           pkgs/main/win-64::oauthlib-3.2.2-py310haa95532_0 \n",
      "  opt_einsum         pkgs/main/noarch::opt_einsum-3.3.0-pyhd3eb1b0_1 \n",
      "  protobuf           pkgs/main/win-64::protobuf-3.20.3-py310hd77b12b_0 \n",
      "  pyasn1             pkgs/main/noarch::pyasn1-0.4.8-pyhd3eb1b0_0 \n",
      "  pyasn1-modules     pkgs/main/noarch::pyasn1-modules-0.2.8-py_0 \n",
      "  pyjwt              pkgs/main/win-64::pyjwt-2.4.0-py310haa95532_0 \n",
      "  python-flatbuffers pkgs/main/noarch::python-flatbuffers-2.0-pyhd3eb1b0_0 \n",
      "  re2                pkgs/main/win-64::re2-2022.04.01-hd77b12b_0 \n",
      "  requests-oauthlib  pkgs/main/noarch::requests-oauthlib-1.3.0-py_0 \n",
      "  rsa                pkgs/main/noarch::rsa-4.7.2-pyhd3eb1b0_1 \n",
      "  snappy             pkgs/main/win-64::snappy-1.1.9-h6c2663c_0 \n",
      "  tensorboard        pkgs/main/win-64::tensorboard-2.10.0-py310haa95532_0 \n",
      "  tensorboard-data-~ pkgs/main/win-64::tensorboard-data-server-0.6.1-py310haa95532_0 \n",
      "  tensorboard-plugi~ pkgs/main/win-64::tensorboard-plugin-wit-1.8.1-py310haa95532_0 \n",
      "  tensorflow         pkgs/main/win-64::tensorflow-2.10.0-mkl_py310hd99672f_0 \n",
      "  tensorflow-base    pkgs/main/win-64::tensorflow-base-2.10.0-mkl_py310h6a7f48e_0 \n",
      "  tensorflow-estima~ pkgs/main/win-64::tensorflow-estimator-2.10.0-py310haa95532_0 \n",
      "  termcolor          pkgs/main/win-64::termcolor-2.1.0-py310haa95532_0 \n",
      "  werkzeug           pkgs/main/win-64::werkzeug-2.2.3-py310haa95532_0 \n",
      "  wrapt              pkgs/main/win-64::wrapt-1.14.1-py310h2bbff1b_0 \n",
      "  yarl               pkgs/main/win-64::yarl-1.8.1-py310h2bbff1b_0 \n",
      "\n",
      "The following packages will be REMOVED:\n",
      "\n",
      "  libpq-12.15-h906ac69_1\n",
      "\n",
      "The following packages will be DOWNGRADED:\n",
      "\n",
      "  cryptography                       41.0.3-py310h89fc84f_0 --> 41.0.3-py310h3438e0d_0 \n",
      "  krb5                                    1.20.1-h5b6d351_0 --> 1.19.4-h5b6d351_0 \n",
      "  openssl                                 3.0.11-h2bbff1b_2 --> 1.1.1w-h2bbff1b_0 \n",
      "  python                                 3.10.13-he1021f5_0 --> 3.10.13-h966fe2a_0 \n",
      "  qt-main                                 5.15.2-h879a1e9_9 --> 5.15.2-he8e5bd7_8 \n",
      "\n",
      "\n",
      "\n",
      "Downloading and Extracting Packages\n",
      "\n",
      "\n",
      "Preparing transaction: ...working... done\n",
      "Verifying transaction: ...working... done\n",
      "Executing transaction: ...working... done\n"
     ]
    },
    {
     "name": "stderr",
     "output_type": "stream",
     "text": [
      "\n",
      "\n",
      "==> WARNING: A newer version of conda exists. <==\n",
      "  current version: 23.5.2\n",
      "  latest version: 23.9.0\n",
      "\n",
      "Please update conda by running\n",
      "\n",
      "    $ conda update -n base -c defaults conda\n",
      "\n",
      "Or to minimize the number of packages updated during conda update use\n",
      "\n",
      "     conda install conda=23.9.0\n",
      "\n",
      "\n"
     ]
    }
   ],
   "source": [
    "!conda install --yes --prefix {sys.prefix} tensorflow"
   ]
  },
  {
   "cell_type": "code",
   "execution_count": 4,
   "id": "3b14f8ae",
   "metadata": {},
   "outputs": [],
   "source": [
    "import pandas as pd\n",
    "import numpy as np\n",
    "%matplotlib inline\n",
    "import matplotlib.pyplot as plt\n",
    "import math\n",
    "import seaborn as sns\n",
    "from sklearn.preprocessing import MinMaxScaler\n",
    "from sklearn.metrics import mean_squared_error\n",
    "import tensorflow as tf\n",
    "from tensorflow.python.keras.models import Sequential\n",
    "from tensorflow.python.keras.layers import Dense\n",
    "from tensorflow.python.keras.layers import LSTM\n",
    "from warnings import filterwarnings\n",
    "filterwarnings(\"ignore\")"
   ]
  },
  {
   "cell_type": "code",
   "execution_count": 5,
   "id": "f34ddccc",
   "metadata": {},
   "outputs": [],
   "source": [
    "nflx = pd.read_csv(\"NFLX.csv\")"
   ]
  },
  {
   "cell_type": "markdown",
   "id": "c17f85c0",
   "metadata": {},
   "source": [
    "## Gathering some info about data"
   ]
  },
  {
   "cell_type": "code",
   "execution_count": 6,
   "id": "2dde9a45",
   "metadata": {},
   "outputs": [
    {
     "data": {
      "text/html": [
       "<div>\n",
       "<style scoped>\n",
       "    .dataframe tbody tr th:only-of-type {\n",
       "        vertical-align: middle;\n",
       "    }\n",
       "\n",
       "    .dataframe tbody tr th {\n",
       "        vertical-align: top;\n",
       "    }\n",
       "\n",
       "    .dataframe thead th {\n",
       "        text-align: right;\n",
       "    }\n",
       "</style>\n",
       "<table border=\"1\" class=\"dataframe\">\n",
       "  <thead>\n",
       "    <tr style=\"text-align: right;\">\n",
       "      <th></th>\n",
       "      <th>Date</th>\n",
       "      <th>Open</th>\n",
       "      <th>High</th>\n",
       "      <th>Low</th>\n",
       "      <th>Close</th>\n",
       "      <th>Adj Close</th>\n",
       "      <th>Volume</th>\n",
       "    </tr>\n",
       "  </thead>\n",
       "  <tbody>\n",
       "    <tr>\n",
       "      <th>0</th>\n",
       "      <td>2002-05-23</td>\n",
       "      <td>1.156429</td>\n",
       "      <td>1.242857</td>\n",
       "      <td>1.145714</td>\n",
       "      <td>1.196429</td>\n",
       "      <td>1.196429</td>\n",
       "      <td>104790000</td>\n",
       "    </tr>\n",
       "    <tr>\n",
       "      <th>1</th>\n",
       "      <td>2002-05-24</td>\n",
       "      <td>1.214286</td>\n",
       "      <td>1.225000</td>\n",
       "      <td>1.197143</td>\n",
       "      <td>1.210000</td>\n",
       "      <td>1.210000</td>\n",
       "      <td>11104800</td>\n",
       "    </tr>\n",
       "    <tr>\n",
       "      <th>2</th>\n",
       "      <td>2002-05-28</td>\n",
       "      <td>1.213571</td>\n",
       "      <td>1.232143</td>\n",
       "      <td>1.157143</td>\n",
       "      <td>1.157143</td>\n",
       "      <td>1.157143</td>\n",
       "      <td>6609400</td>\n",
       "    </tr>\n",
       "    <tr>\n",
       "      <th>3</th>\n",
       "      <td>2002-05-29</td>\n",
       "      <td>1.164286</td>\n",
       "      <td>1.164286</td>\n",
       "      <td>1.085714</td>\n",
       "      <td>1.103571</td>\n",
       "      <td>1.103571</td>\n",
       "      <td>6757800</td>\n",
       "    </tr>\n",
       "    <tr>\n",
       "      <th>4</th>\n",
       "      <td>2002-05-30</td>\n",
       "      <td>1.107857</td>\n",
       "      <td>1.107857</td>\n",
       "      <td>1.071429</td>\n",
       "      <td>1.071429</td>\n",
       "      <td>1.071429</td>\n",
       "      <td>10154200</td>\n",
       "    </tr>\n",
       "  </tbody>\n",
       "</table>\n",
       "</div>"
      ],
      "text/plain": [
       "         Date      Open      High       Low     Close  Adj Close     Volume\n",
       "0  2002-05-23  1.156429  1.242857  1.145714  1.196429   1.196429  104790000\n",
       "1  2002-05-24  1.214286  1.225000  1.197143  1.210000   1.210000   11104800\n",
       "2  2002-05-28  1.213571  1.232143  1.157143  1.157143   1.157143    6609400\n",
       "3  2002-05-29  1.164286  1.164286  1.085714  1.103571   1.103571    6757800\n",
       "4  2002-05-30  1.107857  1.107857  1.071429  1.071429   1.071429   10154200"
      ]
     },
     "execution_count": 6,
     "metadata": {},
     "output_type": "execute_result"
    }
   ],
   "source": [
    "nflx.head()"
   ]
  },
  {
   "cell_type": "code",
   "execution_count": 7,
   "id": "1a465169",
   "metadata": {},
   "outputs": [
    {
     "data": {
      "text/html": [
       "<div>\n",
       "<style scoped>\n",
       "    .dataframe tbody tr th:only-of-type {\n",
       "        vertical-align: middle;\n",
       "    }\n",
       "\n",
       "    .dataframe tbody tr th {\n",
       "        vertical-align: top;\n",
       "    }\n",
       "\n",
       "    .dataframe thead th {\n",
       "        text-align: right;\n",
       "    }\n",
       "</style>\n",
       "<table border=\"1\" class=\"dataframe\">\n",
       "  <thead>\n",
       "    <tr style=\"text-align: right;\">\n",
       "      <th></th>\n",
       "      <th>Date</th>\n",
       "      <th>Open</th>\n",
       "      <th>High</th>\n",
       "      <th>Low</th>\n",
       "      <th>Close</th>\n",
       "      <th>Adj Close</th>\n",
       "      <th>Volume</th>\n",
       "    </tr>\n",
       "  </thead>\n",
       "  <tbody>\n",
       "    <tr>\n",
       "      <th>5039</th>\n",
       "      <td>2022-05-27</td>\n",
       "      <td>193.190002</td>\n",
       "      <td>195.250000</td>\n",
       "      <td>190.369995</td>\n",
       "      <td>195.190002</td>\n",
       "      <td>195.190002</td>\n",
       "      <td>8586000</td>\n",
       "    </tr>\n",
       "    <tr>\n",
       "      <th>5040</th>\n",
       "      <td>2022-05-31</td>\n",
       "      <td>196.179993</td>\n",
       "      <td>199.949997</td>\n",
       "      <td>190.800003</td>\n",
       "      <td>197.440002</td>\n",
       "      <td>197.440002</td>\n",
       "      <td>11398500</td>\n",
       "    </tr>\n",
       "    <tr>\n",
       "      <th>5041</th>\n",
       "      <td>2022-06-01</td>\n",
       "      <td>198.699997</td>\n",
       "      <td>202.740005</td>\n",
       "      <td>191.660004</td>\n",
       "      <td>192.910004</td>\n",
       "      <td>192.910004</td>\n",
       "      <td>8416200</td>\n",
       "    </tr>\n",
       "    <tr>\n",
       "      <th>5042</th>\n",
       "      <td>2022-06-02</td>\n",
       "      <td>192.020004</td>\n",
       "      <td>205.470001</td>\n",
       "      <td>191.720001</td>\n",
       "      <td>205.089996</td>\n",
       "      <td>205.089996</td>\n",
       "      <td>9623100</td>\n",
       "    </tr>\n",
       "    <tr>\n",
       "      <th>5043</th>\n",
       "      <td>2022-06-03</td>\n",
       "      <td>200.139999</td>\n",
       "      <td>202.949997</td>\n",
       "      <td>198.050003</td>\n",
       "      <td>198.979996</td>\n",
       "      <td>198.979996</td>\n",
       "      <td>7181700</td>\n",
       "    </tr>\n",
       "  </tbody>\n",
       "</table>\n",
       "</div>"
      ],
      "text/plain": [
       "            Date        Open        High         Low       Close   Adj Close  \\\n",
       "5039  2022-05-27  193.190002  195.250000  190.369995  195.190002  195.190002   \n",
       "5040  2022-05-31  196.179993  199.949997  190.800003  197.440002  197.440002   \n",
       "5041  2022-06-01  198.699997  202.740005  191.660004  192.910004  192.910004   \n",
       "5042  2022-06-02  192.020004  205.470001  191.720001  205.089996  205.089996   \n",
       "5043  2022-06-03  200.139999  202.949997  198.050003  198.979996  198.979996   \n",
       "\n",
       "        Volume  \n",
       "5039   8586000  \n",
       "5040  11398500  \n",
       "5041   8416200  \n",
       "5042   9623100  \n",
       "5043   7181700  "
      ]
     },
     "execution_count": 7,
     "metadata": {},
     "output_type": "execute_result"
    }
   ],
   "source": [
    "nflx.tail()"
   ]
  },
  {
   "cell_type": "code",
   "execution_count": 8,
   "id": "ac79c906",
   "metadata": {},
   "outputs": [
    {
     "name": "stdout",
     "output_type": "stream",
     "text": [
      "<class 'pandas.core.frame.DataFrame'>\n",
      "RangeIndex: 5044 entries, 0 to 5043\n",
      "Data columns (total 7 columns):\n",
      " #   Column     Non-Null Count  Dtype  \n",
      "---  ------     --------------  -----  \n",
      " 0   Date       5044 non-null   object \n",
      " 1   Open       5044 non-null   float64\n",
      " 2   High       5044 non-null   float64\n",
      " 3   Low        5044 non-null   float64\n",
      " 4   Close      5044 non-null   float64\n",
      " 5   Adj Close  5044 non-null   float64\n",
      " 6   Volume     5044 non-null   int64  \n",
      "dtypes: float64(5), int64(1), object(1)\n",
      "memory usage: 276.0+ KB\n"
     ]
    }
   ],
   "source": [
    "nflx.info()"
   ]
  },
  {
   "cell_type": "code",
   "execution_count": 9,
   "id": "66e496d3",
   "metadata": {},
   "outputs": [
    {
     "data": {
      "text/plain": [
       "Date         0\n",
       "Open         0\n",
       "High         0\n",
       "Low          0\n",
       "Close        0\n",
       "Adj Close    0\n",
       "Volume       0\n",
       "dtype: int64"
      ]
     },
     "execution_count": 9,
     "metadata": {},
     "output_type": "execute_result"
    }
   ],
   "source": [
    "nflx.isnull().sum()"
   ]
  },
  {
   "cell_type": "code",
   "execution_count": 10,
   "id": "e5f5215a",
   "metadata": {},
   "outputs": [
    {
     "data": {
      "text/plain": [
       "(5044,)"
      ]
     },
     "execution_count": 10,
     "metadata": {},
     "output_type": "execute_result"
    }
   ],
   "source": [
    "nflx1 = nflx.reset_index()[\"Close\"]\n",
    "nflx1.shape"
   ]
  },
  {
   "cell_type": "code",
   "execution_count": 11,
   "id": "5b52035d",
   "metadata": {},
   "outputs": [
    {
     "data": {
      "text/plain": [
       "0         1.196429\n",
       "1         1.210000\n",
       "2         1.157143\n",
       "3         1.103571\n",
       "4         1.071429\n",
       "           ...    \n",
       "5039    195.190002\n",
       "5040    197.440002\n",
       "5041    192.910004\n",
       "5042    205.089996\n",
       "5043    198.979996\n",
       "Name: Close, Length: 5044, dtype: float64"
      ]
     },
     "execution_count": 11,
     "metadata": {},
     "output_type": "execute_result"
    }
   ],
   "source": [
    "nflx1"
   ]
  },
  {
   "cell_type": "markdown",
   "id": "c9d1661b",
   "metadata": {},
   "source": [
    "## Preprocessing the data"
   ]
  },
  {
   "cell_type": "code",
   "execution_count": 12,
   "id": "3693c11d",
   "metadata": {},
   "outputs": [],
   "source": [
    "## Applying MinMaxScaler\n",
    "scaler = MinMaxScaler(feature_range=(0,1))\n",
    "nflx1=scaler.fit_transform(np.array(nflx1).reshape(-1,1))"
   ]
  },
  {
   "cell_type": "code",
   "execution_count": 13,
   "id": "f940a43a",
   "metadata": {},
   "outputs": [
    {
     "data": {
      "text/plain": [
       "array([[0.00119131],\n",
       "       [0.00121094],\n",
       "       [0.00113448],\n",
       "       ...,\n",
       "       [0.2785077 ],\n",
       "       [0.29612623],\n",
       "       [0.28728803]])"
      ]
     },
     "execution_count": 13,
     "metadata": {},
     "output_type": "execute_result"
    }
   ],
   "source": [
    "nflx1"
   ]
  },
  {
   "cell_type": "markdown",
   "id": "0a6eb311",
   "metadata": {},
   "source": [
    "#### Splitting dataset into train and test"
   ]
  },
  {
   "cell_type": "code",
   "execution_count": 14,
   "id": "328deb51",
   "metadata": {},
   "outputs": [],
   "source": [
    "training_size = int(len(nflx1)*0.70)\n",
    "test_size = len(nflx1)-training_size\n",
    "train_data, test_data = nflx1[0:training_size,:], nflx1[training_size:len(nflx1),:1]"
   ]
  },
  {
   "cell_type": "code",
   "execution_count": 15,
   "id": "28832574",
   "metadata": {},
   "outputs": [
    {
     "data": {
      "text/plain": [
       "(3530, 1514)"
      ]
     },
     "execution_count": 15,
     "metadata": {},
     "output_type": "execute_result"
    }
   ],
   "source": [
    "training_size, test_size"
   ]
  },
  {
   "cell_type": "markdown",
   "id": "13643533",
   "metadata": {},
   "source": [
    "#### Converting an array into dataset matrix"
   ]
  },
  {
   "cell_type": "code",
   "execution_count": 16,
   "id": "17ffe4c7",
   "metadata": {},
   "outputs": [],
   "source": [
    "def create_dataset(dataset, time_step=1):\n",
    "    dataX, dataY = [], []\n",
    "    for i in range(len(dataset)-time_step-1):\n",
    "        a = dataset[i:(i+time_step), 0] ### i=0, 0,1,2,3----99\n",
    "        dataX.append(a)\n",
    "        dataY.append(dataset[i + time_step, 0])\n",
    "    return np.array(dataX), np.array(dataY)"
   ]
  },
  {
   "cell_type": "markdown",
   "id": "7ef139ad",
   "metadata": {},
   "source": [
    "#### Reshape into X = t, t+1, t+2, t+3 and t+4"
   ]
  },
  {
   "cell_type": "code",
   "execution_count": 17,
   "id": "23c45706",
   "metadata": {},
   "outputs": [],
   "source": [
    "time_step = 100\n",
    "x_train, y_train = create_dataset(train_data, time_step)\n",
    "x_test, y_test = create_dataset(test_data, time_step)"
   ]
  },
  {
   "cell_type": "code",
   "execution_count": 18,
   "id": "4c8bd04b",
   "metadata": {},
   "outputs": [
    {
     "data": {
      "text/plain": [
       "((3429, 100), (3429,))"
      ]
     },
     "execution_count": 18,
     "metadata": {},
     "output_type": "execute_result"
    }
   ],
   "source": [
    "x_train.shape, y_train.shape"
   ]
  },
  {
   "cell_type": "markdown",
   "id": "1fa04c98",
   "metadata": {},
   "source": [
    "#### Reshape input to be [samples, time steps, features] required for LSTM"
   ]
  },
  {
   "cell_type": "code",
   "execution_count": 19,
   "id": "3119c327",
   "metadata": {},
   "outputs": [],
   "source": [
    "x_train = x_train.reshape(x_train.shape[0], x_train.shape[1], 1)\n",
    "x_test = x_test.reshape(x_test.shape[0], x_test.shape[1], 1)"
   ]
  },
  {
   "cell_type": "markdown",
   "id": "cad71d7c",
   "metadata": {},
   "source": [
    "## Creating  Stacked LSTM Model"
   ]
  },
  {
   "cell_type": "code",
   "execution_count": 20,
   "id": "a3c8d0d9",
   "metadata": {},
   "outputs": [],
   "source": [
    "model = Sequential()\n",
    "model.add(LSTM(50, return_sequences=True, input_shape=(100,1)))\n",
    "model.add(LSTM(50, return_sequences=True))\n",
    "model.add(LSTM(50))\n",
    "model.add(Dense(1))\n",
    "model.compile(loss=\"mean_squared_error\", optimizer=\"adam\")"
   ]
  },
  {
   "cell_type": "code",
   "execution_count": 21,
   "id": "29e1790a",
   "metadata": {},
   "outputs": [
    {
     "name": "stdout",
     "output_type": "stream",
     "text": [
      "Model: \"sequential\"\n",
      "_________________________________________________________________\n",
      "Layer (type)                 Output Shape              Param #   \n",
      "=================================================================\n",
      "lstm (LSTM)                  (None, 100, 50)           10400     \n",
      "_________________________________________________________________\n",
      "lstm_1 (LSTM)                (None, 100, 50)           20200     \n",
      "_________________________________________________________________\n",
      "lstm_2 (LSTM)                (None, 50)                20200     \n",
      "_________________________________________________________________\n",
      "dense (Dense)                (None, 1)                 51        \n",
      "=================================================================\n",
      "Total params: 50,851\n",
      "Trainable params: 50,851\n",
      "Non-trainable params: 0\n",
      "_________________________________________________________________\n"
     ]
    }
   ],
   "source": [
    "model.summary()"
   ]
  },
  {
   "cell_type": "code",
   "execution_count": 22,
   "id": "57999c21",
   "metadata": {},
   "outputs": [
    {
     "name": "stdout",
     "output_type": "stream",
     "text": [
      "Epoch 1/100\n",
      "54/54 [==============================] - 57s 675ms/step - loss: 3.4007e-04 - val_loss: 0.0023\n",
      "Epoch 2/100\n",
      "54/54 [==============================] - 35s 647ms/step - loss: 2.4002e-05 - val_loss: 0.0035\n",
      "Epoch 3/100\n",
      "54/54 [==============================] - 35s 648ms/step - loss: 2.1725e-05 - val_loss: 0.0039\n",
      "Epoch 4/100\n",
      "54/54 [==============================] - 35s 641ms/step - loss: 2.1675e-05 - val_loss: 0.0038\n",
      "Epoch 5/100\n",
      "54/54 [==============================] - 35s 644ms/step - loss: 2.0217e-05 - val_loss: 0.0067\n",
      "Epoch 6/100\n",
      "54/54 [==============================] - 34s 626ms/step - loss: 2.1200e-05 - val_loss: 0.0063\n",
      "Epoch 7/100\n",
      "54/54 [==============================] - 34s 631ms/step - loss: 1.8233e-05 - val_loss: 0.0035\n",
      "Epoch 8/100\n",
      "54/54 [==============================] - 34s 632ms/step - loss: 1.9784e-05 - val_loss: 0.0053\n",
      "Epoch 9/100\n",
      "54/54 [==============================] - 34s 635ms/step - loss: 1.7432e-05 - val_loss: 0.0041\n",
      "Epoch 10/100\n",
      "54/54 [==============================] - 34s 635ms/step - loss: 1.7669e-05 - val_loss: 0.0040\n",
      "Epoch 11/100\n",
      "54/54 [==============================] - 34s 636ms/step - loss: 1.6915e-05 - val_loss: 0.0037\n",
      "Epoch 12/100\n",
      "54/54 [==============================] - 34s 629ms/step - loss: 1.5616e-05 - val_loss: 0.0079\n",
      "Epoch 13/100\n",
      "54/54 [==============================] - 33s 607ms/step - loss: 1.5099e-05 - val_loss: 0.0036\n",
      "Epoch 14/100\n",
      "54/54 [==============================] - 30s 547ms/step - loss: 1.3696e-05 - val_loss: 0.0029\n",
      "Epoch 15/100\n",
      "54/54 [==============================] - 33s 606ms/step - loss: 1.4136e-05 - val_loss: 0.0041\n",
      "Epoch 16/100\n",
      "54/54 [==============================] - 31s 571ms/step - loss: 1.4036e-05 - val_loss: 0.0023\n",
      "Epoch 17/100\n",
      "54/54 [==============================] - 32s 586ms/step - loss: 1.2807e-05 - val_loss: 0.0060\n",
      "Epoch 18/100\n",
      "54/54 [==============================] - 34s 626ms/step - loss: 1.2905e-05 - val_loss: 0.0032\n",
      "Epoch 19/100\n",
      "54/54 [==============================] - 33s 606ms/step - loss: 1.4218e-05 - val_loss: 0.0040\n",
      "Epoch 20/100\n",
      "54/54 [==============================] - 33s 618ms/step - loss: 1.4138e-05 - val_loss: 0.0039\n",
      "Epoch 21/100\n",
      "54/54 [==============================] - 34s 634ms/step - loss: 1.3277e-05 - val_loss: 0.0041\n",
      "Epoch 22/100\n",
      "54/54 [==============================] - 35s 640ms/step - loss: 1.0746e-05 - val_loss: 0.0049\n",
      "Epoch 23/100\n",
      "54/54 [==============================] - 35s 648ms/step - loss: 1.0829e-05 - val_loss: 0.0024\n",
      "Epoch 24/100\n",
      "54/54 [==============================] - 35s 648ms/step - loss: 1.1253e-05 - val_loss: 0.0047\n",
      "Epoch 25/100\n",
      "54/54 [==============================] - 35s 645ms/step - loss: 1.0614e-05 - val_loss: 0.0028\n",
      "Epoch 26/100\n",
      "54/54 [==============================] - 35s 646ms/step - loss: 1.1357e-05 - val_loss: 0.0046\n",
      "Epoch 27/100\n",
      "54/54 [==============================] - 35s 644ms/step - loss: 1.0871e-05 - val_loss: 0.0017\n",
      "Epoch 28/100\n",
      "54/54 [==============================] - 35s 648ms/step - loss: 1.0009e-05 - val_loss: 0.0019\n",
      "Epoch 29/100\n",
      "54/54 [==============================] - 35s 646ms/step - loss: 9.6572e-06 - val_loss: 0.0024\n",
      "Epoch 30/100\n",
      "54/54 [==============================] - 102s 2s/step - loss: 9.0427e-06 - val_loss: 0.0027\n",
      "Epoch 31/100\n",
      "54/54 [==============================] - 31s 580ms/step - loss: 9.2283e-06 - val_loss: 0.0035\n",
      "Epoch 32/100\n",
      "54/54 [==============================] - 35s 645ms/step - loss: 9.2520e-06 - val_loss: 0.0036\n",
      "Epoch 33/100\n",
      "54/54 [==============================] - 35s 641ms/step - loss: 8.3784e-06 - val_loss: 0.0026\n",
      "Epoch 34/100\n",
      "54/54 [==============================] - 33s 613ms/step - loss: 8.6492e-06 - val_loss: 0.0014\n",
      "Epoch 35/100\n",
      "54/54 [==============================] - 30s 564ms/step - loss: 9.5575e-06 - val_loss: 0.0036\n",
      "Epoch 36/100\n",
      "54/54 [==============================] - 33s 605ms/step - loss: 8.9930e-06 - val_loss: 0.0035\n",
      "Epoch 37/100\n",
      "54/54 [==============================] - 33s 617ms/step - loss: 8.9069e-06 - val_loss: 0.0019\n",
      "Epoch 38/100\n",
      "54/54 [==============================] - 32s 588ms/step - loss: 9.8267e-06 - val_loss: 0.0034\n",
      "Epoch 39/100\n",
      "54/54 [==============================] - 34s 633ms/step - loss: 9.1147e-06 - val_loss: 0.0016\n",
      "Epoch 40/100\n",
      "54/54 [==============================] - 34s 636ms/step - loss: 7.5167e-06 - val_loss: 0.0019\n",
      "Epoch 41/100\n",
      "54/54 [==============================] - 34s 637ms/step - loss: 8.8737e-06 - val_loss: 0.0018\n",
      "Epoch 42/100\n",
      "54/54 [==============================] - 33s 619ms/step - loss: 7.6145e-06 - val_loss: 0.0011\n",
      "Epoch 43/100\n",
      "54/54 [==============================] - 34s 625ms/step - loss: 8.4127e-06 - val_loss: 0.0015\n",
      "Epoch 44/100\n",
      "54/54 [==============================] - 34s 624ms/step - loss: 8.3426e-06 - val_loss: 0.0013\n",
      "Epoch 45/100\n",
      "54/54 [==============================] - 34s 635ms/step - loss: 7.0723e-06 - val_loss: 0.0013\n",
      "Epoch 46/100\n",
      "54/54 [==============================] - 33s 619ms/step - loss: 7.9183e-06 - val_loss: 8.3526e-04\n",
      "Epoch 47/100\n",
      "54/54 [==============================] - 33s 610ms/step - loss: 7.4725e-06 - val_loss: 0.0011\n",
      "Epoch 48/100\n",
      "54/54 [==============================] - 34s 624ms/step - loss: 7.2607e-06 - val_loss: 0.0018\n",
      "Epoch 49/100\n",
      "54/54 [==============================] - 34s 625ms/step - loss: 7.1781e-06 - val_loss: 0.0017\n",
      "Epoch 50/100\n",
      "54/54 [==============================] - 34s 622ms/step - loss: 7.7949e-06 - val_loss: 0.0011\n",
      "Epoch 51/100\n",
      "54/54 [==============================] - 34s 629ms/step - loss: 6.8788e-06 - val_loss: 0.0014\n",
      "Epoch 52/100\n",
      "54/54 [==============================] - 34s 629ms/step - loss: 5.7416e-06 - val_loss: 0.0011\n",
      "Epoch 53/100\n",
      "54/54 [==============================] - 34s 628ms/step - loss: 6.5471e-06 - val_loss: 0.0029\n",
      "Epoch 54/100\n",
      "54/54 [==============================] - 34s 634ms/step - loss: 7.4201e-06 - val_loss: 0.0013\n",
      "Epoch 55/100\n",
      "54/54 [==============================] - 34s 629ms/step - loss: 6.5768e-06 - val_loss: 7.0641e-04\n",
      "Epoch 56/100\n",
      "54/54 [==============================] - 31s 579ms/step - loss: 5.6557e-06 - val_loss: 0.0012\n",
      "Epoch 57/100\n",
      "54/54 [==============================] - 33s 621ms/step - loss: 6.0190e-06 - val_loss: 7.0505e-04\n",
      "Epoch 58/100\n",
      "54/54 [==============================] - 33s 619ms/step - loss: 6.3851e-06 - val_loss: 8.1165e-04\n",
      "Epoch 59/100\n",
      "54/54 [==============================] - 34s 632ms/step - loss: 5.1114e-06 - val_loss: 0.0018\n",
      "Epoch 60/100\n",
      "54/54 [==============================] - 34s 631ms/step - loss: 5.6959e-06 - val_loss: 0.0019\n",
      "Epoch 61/100\n",
      "54/54 [==============================] - 34s 628ms/step - loss: 6.5791e-06 - val_loss: 6.9824e-04\n",
      "Epoch 62/100\n",
      "54/54 [==============================] - 34s 623ms/step - loss: 5.0661e-06 - val_loss: 7.5575e-04\n",
      "Epoch 63/100\n",
      "54/54 [==============================] - 33s 620ms/step - loss: 7.2998e-06 - val_loss: 0.0015\n",
      "Epoch 64/100\n",
      "54/54 [==============================] - 33s 607ms/step - loss: 4.8669e-06 - val_loss: 0.0013\n",
      "Epoch 65/100\n",
      "54/54 [==============================] - 33s 606ms/step - loss: 4.6154e-06 - val_loss: 0.0011\n",
      "Epoch 66/100\n",
      "54/54 [==============================] - 33s 614ms/step - loss: 4.5500e-06 - val_loss: 6.2073e-04\n",
      "Epoch 67/100\n",
      "54/54 [==============================] - 33s 614ms/step - loss: 5.0249e-06 - val_loss: 0.0013\n",
      "Epoch 68/100\n",
      "54/54 [==============================] - 33s 611ms/step - loss: 4.8299e-06 - val_loss: 6.9295e-04\n",
      "Epoch 69/100\n",
      "54/54 [==============================] - 33s 607ms/step - loss: 4.2198e-06 - val_loss: 6.3160e-04\n",
      "Epoch 70/100\n",
      "54/54 [==============================] - 33s 618ms/step - loss: 4.5291e-06 - val_loss: 5.9535e-04\n",
      "Epoch 71/100\n",
      "54/54 [==============================] - 33s 607ms/step - loss: 4.6503e-06 - val_loss: 7.5162e-04\n",
      "Epoch 72/100\n",
      "54/54 [==============================] - 33s 611ms/step - loss: 4.3583e-06 - val_loss: 8.3682e-04\n",
      "Epoch 73/100\n",
      "54/54 [==============================] - 33s 615ms/step - loss: 5.1570e-06 - val_loss: 3.6310e-04\n",
      "Epoch 74/100\n",
      "54/54 [==============================] - 34s 623ms/step - loss: 4.5949e-06 - val_loss: 9.6586e-04\n",
      "Epoch 75/100\n",
      "54/54 [==============================] - 34s 628ms/step - loss: 5.2533e-06 - val_loss: 6.8789e-04\n",
      "Epoch 76/100\n",
      "54/54 [==============================] - 22s 410ms/step - loss: 4.0966e-06 - val_loss: 0.0010\n",
      "Epoch 77/100\n"
     ]
    },
    {
     "name": "stdout",
     "output_type": "stream",
     "text": [
      "54/54 [==============================] - 19s 347ms/step - loss: 4.2672e-06 - val_loss: 3.3399e-04\n",
      "Epoch 78/100\n",
      "54/54 [==============================] - 19s 353ms/step - loss: 4.4320e-06 - val_loss: 8.6413e-04\n",
      "Epoch 79/100\n",
      "54/54 [==============================] - 19s 348ms/step - loss: 4.3699e-06 - val_loss: 3.0014e-04\n",
      "Epoch 80/100\n",
      "54/54 [==============================] - 19s 346ms/step - loss: 4.7375e-06 - val_loss: 6.8337e-04\n",
      "Epoch 81/100\n",
      "54/54 [==============================] - 19s 354ms/step - loss: 4.1496e-06 - val_loss: 8.0531e-04\n",
      "Epoch 82/100\n",
      "54/54 [==============================] - 19s 349ms/step - loss: 3.7477e-06 - val_loss: 4.0167e-04\n",
      "Epoch 83/100\n",
      "54/54 [==============================] - 19s 346ms/step - loss: 3.5917e-06 - val_loss: 0.0011\n",
      "Epoch 84/100\n",
      "54/54 [==============================] - 19s 345ms/step - loss: 4.4711e-06 - val_loss: 5.6307e-04\n",
      "Epoch 85/100\n",
      "54/54 [==============================] - 19s 349ms/step - loss: 3.6467e-06 - val_loss: 9.4747e-04\n",
      "Epoch 86/100\n",
      "54/54 [==============================] - 20s 365ms/step - loss: 3.8180e-06 - val_loss: 3.2151e-04\n",
      "Epoch 87/100\n",
      "54/54 [==============================] - 19s 352ms/step - loss: 4.3942e-06 - val_loss: 8.4935e-04\n",
      "Epoch 88/100\n",
      "54/54 [==============================] - 19s 354ms/step - loss: 3.2342e-06 - val_loss: 6.0388e-04\n",
      "Epoch 89/100\n",
      "54/54 [==============================] - 90s 2s/step - loss: 3.7308e-06 - val_loss: 6.0363e-04\n",
      "Epoch 90/100\n",
      "54/54 [==============================] - 16s 295ms/step - loss: 4.4460e-06 - val_loss: 7.5811e-04\n",
      "Epoch 91/100\n",
      "54/54 [==============================] - 20s 373ms/step - loss: 3.5852e-06 - val_loss: 3.7901e-04\n",
      "Epoch 92/100\n",
      "54/54 [==============================] - 20s 371ms/step - loss: 4.1888e-06 - val_loss: 3.5533e-04\n",
      "Epoch 93/100\n",
      "54/54 [==============================] - 20s 371ms/step - loss: 4.2987e-06 - val_loss: 4.0707e-04\n",
      "Epoch 94/100\n",
      "54/54 [==============================] - 20s 371ms/step - loss: 3.9797e-06 - val_loss: 3.1960e-04\n",
      "Epoch 95/100\n",
      "54/54 [==============================] - 20s 369ms/step - loss: 4.6873e-06 - val_loss: 0.0015\n",
      "Epoch 96/100\n",
      "54/54 [==============================] - 20s 370ms/step - loss: 5.7813e-06 - val_loss: 4.7052e-04\n",
      "Epoch 97/100\n",
      "54/54 [==============================] - 20s 368ms/step - loss: 3.5913e-06 - val_loss: 4.7403e-04\n",
      "Epoch 98/100\n",
      "54/54 [==============================] - 20s 379ms/step - loss: 3.6045e-06 - val_loss: 3.5471e-04\n",
      "Epoch 99/100\n",
      "54/54 [==============================] - 21s 382ms/step - loss: 3.8148e-06 - val_loss: 9.9611e-04\n",
      "Epoch 100/100\n",
      "54/54 [==============================] - 21s 380ms/step - loss: 4.0332e-06 - val_loss: 4.6102e-04\n"
     ]
    },
    {
     "data": {
      "text/plain": [
       "<tensorflow.python.keras.callbacks.History at 0x2015f31b190>"
      ]
     },
     "execution_count": 22,
     "metadata": {},
     "output_type": "execute_result"
    }
   ],
   "source": [
    "model.fit(x_train, y_train, validation_data=(x_test, y_test), epochs=100, batch_size=64, verbose=1)"
   ]
  },
  {
   "cell_type": "code",
   "execution_count": 23,
   "id": "91b756c1",
   "metadata": {},
   "outputs": [
    {
     "data": {
      "text/plain": [
       "'2.10.0'"
      ]
     },
     "execution_count": 23,
     "metadata": {},
     "output_type": "execute_result"
    }
   ],
   "source": [
    "tf.__version__"
   ]
  },
  {
   "cell_type": "markdown",
   "id": "b2e48b7a",
   "metadata": {},
   "source": [
    "#### Making predictions and checking performance metrics"
   ]
  },
  {
   "cell_type": "code",
   "execution_count": 24,
   "id": "1568ef34",
   "metadata": {},
   "outputs": [],
   "source": [
    "train_predict = model.predict(x_train)\n",
    "test_predict = model.predict(x_test)"
   ]
  },
  {
   "cell_type": "markdown",
   "id": "e1dca838",
   "metadata": {},
   "source": [
    "#### Transforming to original form"
   ]
  },
  {
   "cell_type": "code",
   "execution_count": 25,
   "id": "02b5d42c",
   "metadata": {},
   "outputs": [],
   "source": [
    "train_predict = scaler.inverse_transform(train_predict)\n",
    "test_predict = scaler.inverse_transform(test_predict)"
   ]
  },
  {
   "cell_type": "markdown",
   "id": "ece91a43",
   "metadata": {},
   "source": [
    "#### Calculating RMSE performance metrices"
   ]
  },
  {
   "cell_type": "code",
   "execution_count": 26,
   "id": "021caf22",
   "metadata": {},
   "outputs": [
    {
     "data": {
      "text/plain": [
       "37.66528905367692"
      ]
     },
     "execution_count": 26,
     "metadata": {},
     "output_type": "execute_result"
    }
   ],
   "source": [
    "math.sqrt(mean_squared_error(y_train, train_predict))"
   ]
  },
  {
   "cell_type": "code",
   "execution_count": 27,
   "id": "63cc0a49",
   "metadata": {},
   "outputs": [
    {
     "data": {
      "text/plain": [
       "371.98935045866006"
      ]
     },
     "execution_count": 27,
     "metadata": {},
     "output_type": "execute_result"
    }
   ],
   "source": [
    "math.sqrt(mean_squared_error(y_test, test_predict))"
   ]
  },
  {
   "cell_type": "markdown",
   "id": "666dd297",
   "metadata": {},
   "source": [
    "### Plotting the Graph"
   ]
  },
  {
   "cell_type": "code",
   "execution_count": 28,
   "id": "15b0eda4",
   "metadata": {},
   "outputs": [
    {
     "data": {
      "image/png": "[encoded data removed]",
      "text/plain": [
       "<Figure size 640x480 with 1 Axes>"
      ]
     },
     "metadata": {},
     "output_type": "display_data"
    }
   ],
   "source": [
    "look_back=100\n",
    "trainPredictPlot = np.empty_like(nflx1)\n",
    "trainPredictPlot[:, :] = np.nan\n",
    "trainPredictPlot[look_back:len(train_predict)+look_back, :] = train_predict\n",
    "\n",
    "testPredictPlot = np.empty_like(nflx1)\n",
    "testPredictPlot[:, :] = np.nan\n",
    "testPredictPlot[len(train_predict)+(look_back*2)+1:len(nflx1)-1, :] = test_predict\n",
    "\n",
    "plt.plot(scaler.inverse_transform(nflx1))\n",
    "plt.plot(trainPredictPlot)\n",
    "plt.plot(testPredictPlot)\n",
    "plt.show()"
   ]
  },
  {
   "cell_type": "code",
   "execution_count": 29,
   "id": "6040d6b6",
   "metadata": {},
   "outputs": [
    {
     "data": {
      "text/plain": [
       "1514"
      ]
     },
     "execution_count": 29,
     "metadata": {},
     "output_type": "execute_result"
    }
   ],
   "source": [
    "len(test_data)"
   ]
  },
  {
   "cell_type": "code",
   "execution_count": 30,
   "id": "32f8b067",
   "metadata": {},
   "outputs": [
    {
     "data": {
      "text/plain": [
       "(1, 100)"
      ]
     },
     "execution_count": 30,
     "metadata": {},
     "output_type": "execute_result"
    }
   ],
   "source": [
    "x_input = test_data[1414:].reshape(1,-1)\n",
    "x_input.shape"
   ]
  },
  {
   "cell_type": "code",
   "execution_count": 31,
   "id": "13574d10",
   "metadata": {},
   "outputs": [
    {
     "data": {
      "text/plain": [
       "[0.781793383700906,\n",
       " 0.7765569216426708,\n",
       " 0.7504907968107748,\n",
       " 0.7598786588751534,\n",
       " 0.7383400436278778,\n",
       " 0.7456594006503339,\n",
       " 0.7346514500229846,\n",
       " 0.5744500130978235,\n",
       " 0.559478583451015,\n",
       " 0.5294923735762403,\n",
       " 0.5197717973564795,\n",
       " 0.5588276781418461,\n",
       " 0.5554427960845668,\n",
       " 0.6173247128132485,\n",
       " 0.6607056563019277,\n",
       " 0.6207095500285906,\n",
       " 0.586166786012518,\n",
       " 0.5927773655895658,\n",
       " 0.581103986651452,\n",
       " 0.5831724916933745,\n",
       " 0.596711886843194,\n",
       " 0.5871359258708967,\n",
       " 0.5654960879062242,\n",
       " 0.5731047651074818,\n",
       " 0.5888572805466873,\n",
       " 0.575288972472974,\n",
       " 0.5587842841652653,\n",
       " 0.5654671735358161,\n",
       " 0.54534615657478,\n",
       " 0.5309967164202183,\n",
       " 0.5636445513006912,\n",
       " 0.5647583512484706,\n",
       " 0.5701393851587464,\n",
       " 0.5581622498310813,\n",
       " 0.549179410269074,\n",
       " 0.5318791131673726,\n",
       " 0.5227082195393836,\n",
       " 0.5061167013296046,\n",
       " 0.49382133145273,\n",
       " 0.51845546518306,\n",
       " 0.5155334777643913,\n",
       " 0.4917383468046347,\n",
       " 0.4782713048437414,\n",
       " 0.49669988005288074,\n",
       " 0.5166328429479351,\n",
       " 0.5366959863262177,\n",
       " 0.5500039334334749,\n",
       " 0.5413103692083319,\n",
       " 0.5533598562784088,\n",
       " 0.541165709118931,\n",
       " 0.5429304577713026,\n",
       " 0.5402399632371333,\n",
       " 0.5469807247439233,\n",
       " 0.5662338231174635,\n",
       " 0.5512623934706551,\n",
       " 0.5413103692083319,\n",
       " 0.5396902806453613,\n",
       " 0.5657709284788531,\n",
       " 0.5493529847288828,\n",
       " 0.5322841356697438,\n",
       " 0.5233157308719718,\n",
       " 0.5142461033568029,\n",
       " 0.502847564991318,\n",
       " 0.497206168668072,\n",
       " 0.5063625841364023,\n",
       " 0.4929100203351675,\n",
       " 0.4881798902875466,\n",
       " 0.5037299168965351,\n",
       " 0.32664768497821645,\n",
       " 0.31511896612950335,\n",
       " 0.31121338239050905,\n",
       " 0.30309843827177174,\n",
       " 0.28644904647923924,\n",
       " 0.27218641597555054,\n",
       " 0.2880691567399214,\n",
       " 0.2748190832154177,\n",
       " 0.287982370233274,\n",
       " 0.2885754236574011,\n",
       " 0.29456399204449063,\n",
       " 0.2718682031240524,\n",
       " 0.26123631578672907,\n",
       " 0.2498522570274168,\n",
       " 0.25644835844480607,\n",
       " 0.24011720120148325,\n",
       " 0.2516025275201297,\n",
       " 0.27088456196178956,\n",
       " 0.26924999523916043,\n",
       " 0.27510838169650775,\n",
       " 0.2557684939232919,\n",
       " 0.2648670589530945,\n",
       " 0.2690185688943097,\n",
       " 0.27059526348069957,\n",
       " 0.2603250046691667,\n",
       " 0.27115940398093263,\n",
       " 0.27632344775710715,\n",
       " 0.2818057477802029,\n",
       " 0.2850604045123168,\n",
       " 0.2785076985180224,\n",
       " 0.29612622872241945,\n",
       " 0.28728802755210125]"
      ]
     },
     "execution_count": 31,
     "metadata": {},
     "output_type": "execute_result"
    }
   ],
   "source": [
    "temp_input = list(x_input)\n",
    "temp_input = temp_input[0].tolist()\n",
    "temp_input"
   ]
  },
  {
   "cell_type": "markdown",
   "id": "a53ccfdf",
   "metadata": {},
   "source": [
    "#### Predicting for next 30 days"
   ]
  },
  {
   "cell_type": "code",
   "execution_count": 32,
   "id": "47516c2d",
   "metadata": {},
   "outputs": [
    {
     "name": "stdout",
     "output_type": "stream",
     "text": [
      "[0.28843907]\n",
      "101\n",
      "1 day input [0.77655692 0.7504908  0.75987866 0.73834004 0.7456594  0.73465145\n",
      " 0.57445001 0.55947858 0.52949237 0.5197718  0.55882768 0.5554428\n",
      " 0.61732471 0.66070566 0.62070955 0.58616679 0.59277737 0.58110399\n",
      " 0.58317249 0.59671189 0.58713593 0.56549609 0.57310477 0.58885728\n",
      " 0.57528897 0.55878428 0.56546717 0.54534616 0.53099672 0.56364455\n",
      " 0.56475835 0.57013939 0.55816225 0.54917941 0.53187911 0.52270822\n",
      " 0.5061167  0.49382133 0.51845547 0.51553348 0.49173835 0.4782713\n",
      " 0.49669988 0.51663284 0.53669599 0.55000393 0.54131037 0.55335986\n",
      " 0.54116571 0.54293046 0.54023996 0.54698072 0.56623382 0.55126239\n",
      " 0.54131037 0.53969028 0.56577093 0.54935298 0.53228414 0.52331573\n",
      " 0.5142461  0.50284756 0.49720617 0.50636258 0.49291002 0.48817989\n",
      " 0.50372992 0.32664768 0.31511897 0.31121338 0.30309844 0.28644905\n",
      " 0.27218642 0.28806916 0.27481908 0.28798237 0.28857542 0.29456399\n",
      " 0.2718682  0.26123632 0.24985226 0.25644836 0.2401172  0.25160253\n",
      " 0.27088456 0.26925    0.27510838 0.25576849 0.26486706 0.26901857\n",
      " 0.27059526 0.260325   0.2711594  0.27632345 0.28180575 0.2850604\n",
      " 0.2785077  0.29612623 0.28728803 0.28843907]\n",
      "1 day output [[0.28836462]]\n",
      "2 day input [0.7504908  0.75987866 0.73834004 0.7456594  0.73465145 0.57445001\n",
      " 0.55947858 0.52949237 0.5197718  0.55882768 0.5554428  0.61732471\n",
      " 0.66070566 0.62070955 0.58616679 0.59277737 0.58110399 0.58317249\n",
      " 0.59671189 0.58713593 0.56549609 0.57310477 0.58885728 0.57528897\n",
      " 0.55878428 0.56546717 0.54534616 0.53099672 0.56364455 0.56475835\n",
      " 0.57013939 0.55816225 0.54917941 0.53187911 0.52270822 0.5061167\n",
      " 0.49382133 0.51845547 0.51553348 0.49173835 0.4782713  0.49669988\n",
      " 0.51663284 0.53669599 0.55000393 0.54131037 0.55335986 0.54116571\n",
      " 0.54293046 0.54023996 0.54698072 0.56623382 0.55126239 0.54131037\n",
      " 0.53969028 0.56577093 0.54935298 0.53228414 0.52331573 0.5142461\n",
      " 0.50284756 0.49720617 0.50636258 0.49291002 0.48817989 0.50372992\n",
      " 0.32664768 0.31511897 0.31121338 0.30309844 0.28644905 0.27218642\n",
      " 0.28806916 0.27481908 0.28798237 0.28857542 0.29456399 0.2718682\n",
      " 0.26123632 0.24985226 0.25644836 0.2401172  0.25160253 0.27088456\n",
      " 0.26925    0.27510838 0.25576849 0.26486706 0.26901857 0.27059526\n",
      " 0.260325   0.2711594  0.27632345 0.28180575 0.2850604  0.2785077\n",
      " 0.29612623 0.28728803 0.28843907 0.28836462]\n",
      "2 day output [[0.28877267]]\n",
      "3 day input [0.75987866 0.73834004 0.7456594  0.73465145 0.57445001 0.55947858\n",
      " 0.52949237 0.5197718  0.55882768 0.5554428  0.61732471 0.66070566\n",
      " 0.62070955 0.58616679 0.59277737 0.58110399 0.58317249 0.59671189\n",
      " 0.58713593 0.56549609 0.57310477 0.58885728 0.57528897 0.55878428\n",
      " 0.56546717 0.54534616 0.53099672 0.56364455 0.56475835 0.57013939\n",
      " 0.55816225 0.54917941 0.53187911 0.52270822 0.5061167  0.49382133\n",
      " 0.51845547 0.51553348 0.49173835 0.4782713  0.49669988 0.51663284\n",
      " 0.53669599 0.55000393 0.54131037 0.55335986 0.54116571 0.54293046\n",
      " 0.54023996 0.54698072 0.56623382 0.55126239 0.54131037 0.53969028\n",
      " 0.56577093 0.54935298 0.53228414 0.52331573 0.5142461  0.50284756\n",
      " 0.49720617 0.50636258 0.49291002 0.48817989 0.50372992 0.32664768\n",
      " 0.31511897 0.31121338 0.30309844 0.28644905 0.27218642 0.28806916\n",
      " 0.27481908 0.28798237 0.28857542 0.29456399 0.2718682  0.26123632\n",
      " 0.24985226 0.25644836 0.2401172  0.25160253 0.27088456 0.26925\n",
      " 0.27510838 0.25576849 0.26486706 0.26901857 0.27059526 0.260325\n",
      " 0.2711594  0.27632345 0.28180575 0.2850604  0.2785077  0.29612623\n",
      " 0.28728803 0.28843907 0.28836462 0.28877267]\n",
      "3 day output [[0.2895022]]\n",
      "4 day input [0.73834004 0.7456594  0.73465145 0.57445001 0.55947858 0.52949237\n",
      " 0.5197718  0.55882768 0.5554428  0.61732471 0.66070566 0.62070955\n",
      " 0.58616679 0.59277737 0.58110399 0.58317249 0.59671189 0.58713593\n",
      " 0.56549609 0.57310477 0.58885728 0.57528897 0.55878428 0.56546717\n",
      " 0.54534616 0.53099672 0.56364455 0.56475835 0.57013939 0.55816225\n",
      " 0.54917941 0.53187911 0.52270822 0.5061167  0.49382133 0.51845547\n",
      " 0.51553348 0.49173835 0.4782713  0.49669988 0.51663284 0.53669599\n",
      " 0.55000393 0.54131037 0.55335986 0.54116571 0.54293046 0.54023996\n",
      " 0.54698072 0.56623382 0.55126239 0.54131037 0.53969028 0.56577093\n",
      " 0.54935298 0.53228414 0.52331573 0.5142461  0.50284756 0.49720617\n",
      " 0.50636258 0.49291002 0.48817989 0.50372992 0.32664768 0.31511897\n",
      " 0.31121338 0.30309844 0.28644905 0.27218642 0.28806916 0.27481908\n",
      " 0.28798237 0.28857542 0.29456399 0.2718682  0.26123632 0.24985226\n",
      " 0.25644836 0.2401172  0.25160253 0.27088456 0.26925    0.27510838\n",
      " 0.25576849 0.26486706 0.26901857 0.27059526 0.260325   0.2711594\n",
      " 0.27632345 0.28180575 0.2850604  0.2785077  0.29612623 0.28728803\n",
      " 0.28843907 0.28836462 0.28877267 0.2895022 ]\n",
      "4 day output [[0.29041845]]\n",
      "5 day input [0.7456594  0.73465145 0.57445001 0.55947858 0.52949237 0.5197718\n",
      " 0.55882768 0.5554428  0.61732471 0.66070566 0.62070955 0.58616679\n",
      " 0.59277737 0.58110399 0.58317249 0.59671189 0.58713593 0.56549609\n",
      " 0.57310477 0.58885728 0.57528897 0.55878428 0.56546717 0.54534616\n",
      " 0.53099672 0.56364455 0.56475835 0.57013939 0.55816225 0.54917941\n",
      " 0.53187911 0.52270822 0.5061167  0.49382133 0.51845547 0.51553348\n",
      " 0.49173835 0.4782713  0.49669988 0.51663284 0.53669599 0.55000393\n",
      " 0.54131037 0.55335986 0.54116571 0.54293046 0.54023996 0.54698072\n",
      " 0.56623382 0.55126239 0.54131037 0.53969028 0.56577093 0.54935298\n",
      " 0.53228414 0.52331573 0.5142461  0.50284756 0.49720617 0.50636258\n",
      " 0.49291002 0.48817989 0.50372992 0.32664768 0.31511897 0.31121338\n",
      " 0.30309844 0.28644905 0.27218642 0.28806916 0.27481908 0.28798237\n",
      " 0.28857542 0.29456399 0.2718682  0.26123632 0.24985226 0.25644836\n",
      " 0.2401172  0.25160253 0.27088456 0.26925    0.27510838 0.25576849\n",
      " 0.26486706 0.26901857 0.27059526 0.260325   0.2711594  0.27632345\n",
      " 0.28180575 0.2850604  0.2785077  0.29612623 0.28728803 0.28843907\n",
      " 0.28836462 0.28877267 0.2895022  0.29041845]\n",
      "5 day output [[0.291385]]\n",
      "6 day input [0.73465145 0.57445001 0.55947858 0.52949237 0.5197718  0.55882768\n",
      " 0.5554428  0.61732471 0.66070566 0.62070955 0.58616679 0.59277737\n",
      " 0.58110399 0.58317249 0.59671189 0.58713593 0.56549609 0.57310477\n",
      " 0.58885728 0.57528897 0.55878428 0.56546717 0.54534616 0.53099672\n",
      " 0.56364455 0.56475835 0.57013939 0.55816225 0.54917941 0.53187911\n",
      " 0.52270822 0.5061167  0.49382133 0.51845547 0.51553348 0.49173835\n",
      " 0.4782713  0.49669988 0.51663284 0.53669599 0.55000393 0.54131037\n",
      " 0.55335986 0.54116571 0.54293046 0.54023996 0.54698072 0.56623382\n",
      " 0.55126239 0.54131037 0.53969028 0.56577093 0.54935298 0.53228414\n",
      " 0.52331573 0.5142461  0.50284756 0.49720617 0.50636258 0.49291002\n",
      " 0.48817989 0.50372992 0.32664768 0.31511897 0.31121338 0.30309844\n",
      " 0.28644905 0.27218642 0.28806916 0.27481908 0.28798237 0.28857542\n",
      " 0.29456399 0.2718682  0.26123632 0.24985226 0.25644836 0.2401172\n",
      " 0.25160253 0.27088456 0.26925    0.27510838 0.25576849 0.26486706\n",
      " 0.26901857 0.27059526 0.260325   0.2711594  0.27632345 0.28180575\n",
      " 0.2850604  0.2785077  0.29612623 0.28728803 0.28843907 0.28836462\n",
      " 0.28877267 0.2895022  0.29041845 0.29138499]\n",
      "6 day output [[0.2923035]]\n",
      "7 day input [0.57445001 0.55947858 0.52949237 0.5197718  0.55882768 0.5554428\n",
      " 0.61732471 0.66070566 0.62070955 0.58616679 0.59277737 0.58110399\n",
      " 0.58317249 0.59671189 0.58713593 0.56549609 0.57310477 0.58885728\n",
      " 0.57528897 0.55878428 0.56546717 0.54534616 0.53099672 0.56364455\n",
      " 0.56475835 0.57013939 0.55816225 0.54917941 0.53187911 0.52270822\n",
      " 0.5061167  0.49382133 0.51845547 0.51553348 0.49173835 0.4782713\n",
      " 0.49669988 0.51663284 0.53669599 0.55000393 0.54131037 0.55335986\n",
      " 0.54116571 0.54293046 0.54023996 0.54698072 0.56623382 0.55126239\n",
      " 0.54131037 0.53969028 0.56577093 0.54935298 0.53228414 0.52331573\n",
      " 0.5142461  0.50284756 0.49720617 0.50636258 0.49291002 0.48817989\n",
      " 0.50372992 0.32664768 0.31511897 0.31121338 0.30309844 0.28644905\n",
      " 0.27218642 0.28806916 0.27481908 0.28798237 0.28857542 0.29456399\n",
      " 0.2718682  0.26123632 0.24985226 0.25644836 0.2401172  0.25160253\n",
      " 0.27088456 0.26925    0.27510838 0.25576849 0.26486706 0.26901857\n",
      " 0.27059526 0.260325   0.2711594  0.27632345 0.28180575 0.2850604\n",
      " 0.2785077  0.29612623 0.28728803 0.28843907 0.28836462 0.28877267\n",
      " 0.2895022  0.29041845 0.29138499 0.2923035 ]\n",
      "7 day output [[0.29312313]]\n",
      "8 day input [0.55947858 0.52949237 0.5197718  0.55882768 0.5554428  0.61732471\n",
      " 0.66070566 0.62070955 0.58616679 0.59277737 0.58110399 0.58317249\n",
      " 0.59671189 0.58713593 0.56549609 0.57310477 0.58885728 0.57528897\n",
      " 0.55878428 0.56546717 0.54534616 0.53099672 0.56364455 0.56475835\n",
      " 0.57013939 0.55816225 0.54917941 0.53187911 0.52270822 0.5061167\n",
      " 0.49382133 0.51845547 0.51553348 0.49173835 0.4782713  0.49669988\n",
      " 0.51663284 0.53669599 0.55000393 0.54131037 0.55335986 0.54116571\n",
      " 0.54293046 0.54023996 0.54698072 0.56623382 0.55126239 0.54131037\n",
      " 0.53969028 0.56577093 0.54935298 0.53228414 0.52331573 0.5142461\n",
      " 0.50284756 0.49720617 0.50636258 0.49291002 0.48817989 0.50372992\n",
      " 0.32664768 0.31511897 0.31121338 0.30309844 0.28644905 0.27218642\n",
      " 0.28806916 0.27481908 0.28798237 0.28857542 0.29456399 0.2718682\n",
      " 0.26123632 0.24985226 0.25644836 0.2401172  0.25160253 0.27088456\n",
      " 0.26925    0.27510838 0.25576849 0.26486706 0.26901857 0.27059526\n",
      " 0.260325   0.2711594  0.27632345 0.28180575 0.2850604  0.2785077\n",
      " 0.29612623 0.28728803 0.28843907 0.28836462 0.28877267 0.2895022\n",
      " 0.29041845 0.29138499 0.2923035  0.29312313]\n"
     ]
    },
    {
     "name": "stdout",
     "output_type": "stream",
     "text": [
      "8 day output [[0.2938333]]\n",
      "9 day input [0.52949237 0.5197718  0.55882768 0.5554428  0.61732471 0.66070566\n",
      " 0.62070955 0.58616679 0.59277737 0.58110399 0.58317249 0.59671189\n",
      " 0.58713593 0.56549609 0.57310477 0.58885728 0.57528897 0.55878428\n",
      " 0.56546717 0.54534616 0.53099672 0.56364455 0.56475835 0.57013939\n",
      " 0.55816225 0.54917941 0.53187911 0.52270822 0.5061167  0.49382133\n",
      " 0.51845547 0.51553348 0.49173835 0.4782713  0.49669988 0.51663284\n",
      " 0.53669599 0.55000393 0.54131037 0.55335986 0.54116571 0.54293046\n",
      " 0.54023996 0.54698072 0.56623382 0.55126239 0.54131037 0.53969028\n",
      " 0.56577093 0.54935298 0.53228414 0.52331573 0.5142461  0.50284756\n",
      " 0.49720617 0.50636258 0.49291002 0.48817989 0.50372992 0.32664768\n",
      " 0.31511897 0.31121338 0.30309844 0.28644905 0.27218642 0.28806916\n",
      " 0.27481908 0.28798237 0.28857542 0.29456399 0.2718682  0.26123632\n",
      " 0.24985226 0.25644836 0.2401172  0.25160253 0.27088456 0.26925\n",
      " 0.27510838 0.25576849 0.26486706 0.26901857 0.27059526 0.260325\n",
      " 0.2711594  0.27632345 0.28180575 0.2850604  0.2785077  0.29612623\n",
      " 0.28728803 0.28843907 0.28836462 0.28877267 0.2895022  0.29041845\n",
      " 0.29138499 0.2923035  0.29312313 0.29383329]\n",
      "9 day output [[0.29444933]]\n",
      "10 day input [0.5197718  0.55882768 0.5554428  0.61732471 0.66070566 0.62070955\n",
      " 0.58616679 0.59277737 0.58110399 0.58317249 0.59671189 0.58713593\n",
      " 0.56549609 0.57310477 0.58885728 0.57528897 0.55878428 0.56546717\n",
      " 0.54534616 0.53099672 0.56364455 0.56475835 0.57013939 0.55816225\n",
      " 0.54917941 0.53187911 0.52270822 0.5061167  0.49382133 0.51845547\n",
      " 0.51553348 0.49173835 0.4782713  0.49669988 0.51663284 0.53669599\n",
      " 0.55000393 0.54131037 0.55335986 0.54116571 0.54293046 0.54023996\n",
      " 0.54698072 0.56623382 0.55126239 0.54131037 0.53969028 0.56577093\n",
      " 0.54935298 0.53228414 0.52331573 0.5142461  0.50284756 0.49720617\n",
      " 0.50636258 0.49291002 0.48817989 0.50372992 0.32664768 0.31511897\n",
      " 0.31121338 0.30309844 0.28644905 0.27218642 0.28806916 0.27481908\n",
      " 0.28798237 0.28857542 0.29456399 0.2718682  0.26123632 0.24985226\n",
      " 0.25644836 0.2401172  0.25160253 0.27088456 0.26925    0.27510838\n",
      " 0.25576849 0.26486706 0.26901857 0.27059526 0.260325   0.2711594\n",
      " 0.27632345 0.28180575 0.2850604  0.2785077  0.29612623 0.28728803\n",
      " 0.28843907 0.28836462 0.28877267 0.2895022  0.29041845 0.29138499\n",
      " 0.2923035  0.29312313 0.29383329 0.29444933]\n",
      "10 day output [[0.29499793]]\n",
      "11 day input [0.55882768 0.5554428  0.61732471 0.66070566 0.62070955 0.58616679\n",
      " 0.59277737 0.58110399 0.58317249 0.59671189 0.58713593 0.56549609\n",
      " 0.57310477 0.58885728 0.57528897 0.55878428 0.56546717 0.54534616\n",
      " 0.53099672 0.56364455 0.56475835 0.57013939 0.55816225 0.54917941\n",
      " 0.53187911 0.52270822 0.5061167  0.49382133 0.51845547 0.51553348\n",
      " 0.49173835 0.4782713  0.49669988 0.51663284 0.53669599 0.55000393\n",
      " 0.54131037 0.55335986 0.54116571 0.54293046 0.54023996 0.54698072\n",
      " 0.56623382 0.55126239 0.54131037 0.53969028 0.56577093 0.54935298\n",
      " 0.53228414 0.52331573 0.5142461  0.50284756 0.49720617 0.50636258\n",
      " 0.49291002 0.48817989 0.50372992 0.32664768 0.31511897 0.31121338\n",
      " 0.30309844 0.28644905 0.27218642 0.28806916 0.27481908 0.28798237\n",
      " 0.28857542 0.29456399 0.2718682  0.26123632 0.24985226 0.25644836\n",
      " 0.2401172  0.25160253 0.27088456 0.26925    0.27510838 0.25576849\n",
      " 0.26486706 0.26901857 0.27059526 0.260325   0.2711594  0.27632345\n",
      " 0.28180575 0.2850604  0.2785077  0.29612623 0.28728803 0.28843907\n",
      " 0.28836462 0.28877267 0.2895022  0.29041845 0.29138499 0.2923035\n",
      " 0.29312313 0.29383329 0.29444933 0.29499793]\n",
      "11 day output [[0.29550582]]\n",
      "12 day input [0.5554428  0.61732471 0.66070566 0.62070955 0.58616679 0.59277737\n",
      " 0.58110399 0.58317249 0.59671189 0.58713593 0.56549609 0.57310477\n",
      " 0.58885728 0.57528897 0.55878428 0.56546717 0.54534616 0.53099672\n",
      " 0.56364455 0.56475835 0.57013939 0.55816225 0.54917941 0.53187911\n",
      " 0.52270822 0.5061167  0.49382133 0.51845547 0.51553348 0.49173835\n",
      " 0.4782713  0.49669988 0.51663284 0.53669599 0.55000393 0.54131037\n",
      " 0.55335986 0.54116571 0.54293046 0.54023996 0.54698072 0.56623382\n",
      " 0.55126239 0.54131037 0.53969028 0.56577093 0.54935298 0.53228414\n",
      " 0.52331573 0.5142461  0.50284756 0.49720617 0.50636258 0.49291002\n",
      " 0.48817989 0.50372992 0.32664768 0.31511897 0.31121338 0.30309844\n",
      " 0.28644905 0.27218642 0.28806916 0.27481908 0.28798237 0.28857542\n",
      " 0.29456399 0.2718682  0.26123632 0.24985226 0.25644836 0.2401172\n",
      " 0.25160253 0.27088456 0.26925    0.27510838 0.25576849 0.26486706\n",
      " 0.26901857 0.27059526 0.260325   0.2711594  0.27632345 0.28180575\n",
      " 0.2850604  0.2785077  0.29612623 0.28728803 0.28843907 0.28836462\n",
      " 0.28877267 0.2895022  0.29041845 0.29138499 0.2923035  0.29312313\n",
      " 0.29383329 0.29444933 0.29499793 0.29550582]\n",
      "12 day output [[0.29599386]]\n",
      "13 day input [0.61732471 0.66070566 0.62070955 0.58616679 0.59277737 0.58110399\n",
      " 0.58317249 0.59671189 0.58713593 0.56549609 0.57310477 0.58885728\n",
      " 0.57528897 0.55878428 0.56546717 0.54534616 0.53099672 0.56364455\n",
      " 0.56475835 0.57013939 0.55816225 0.54917941 0.53187911 0.52270822\n",
      " 0.5061167  0.49382133 0.51845547 0.51553348 0.49173835 0.4782713\n",
      " 0.49669988 0.51663284 0.53669599 0.55000393 0.54131037 0.55335986\n",
      " 0.54116571 0.54293046 0.54023996 0.54698072 0.56623382 0.55126239\n",
      " 0.54131037 0.53969028 0.56577093 0.54935298 0.53228414 0.52331573\n",
      " 0.5142461  0.50284756 0.49720617 0.50636258 0.49291002 0.48817989\n",
      " 0.50372992 0.32664768 0.31511897 0.31121338 0.30309844 0.28644905\n",
      " 0.27218642 0.28806916 0.27481908 0.28798237 0.28857542 0.29456399\n",
      " 0.2718682  0.26123632 0.24985226 0.25644836 0.2401172  0.25160253\n",
      " 0.27088456 0.26925    0.27510838 0.25576849 0.26486706 0.26901857\n",
      " 0.27059526 0.260325   0.2711594  0.27632345 0.28180575 0.2850604\n",
      " 0.2785077  0.29612623 0.28728803 0.28843907 0.28836462 0.28877267\n",
      " 0.2895022  0.29041845 0.29138499 0.2923035  0.29312313 0.29383329\n",
      " 0.29444933 0.29499793 0.29550582 0.29599386]\n",
      "13 day output [[0.2964751]]\n",
      "14 day input [0.66070566 0.62070955 0.58616679 0.59277737 0.58110399 0.58317249\n",
      " 0.59671189 0.58713593 0.56549609 0.57310477 0.58885728 0.57528897\n",
      " 0.55878428 0.56546717 0.54534616 0.53099672 0.56364455 0.56475835\n",
      " 0.57013939 0.55816225 0.54917941 0.53187911 0.52270822 0.5061167\n",
      " 0.49382133 0.51845547 0.51553348 0.49173835 0.4782713  0.49669988\n",
      " 0.51663284 0.53669599 0.55000393 0.54131037 0.55335986 0.54116571\n",
      " 0.54293046 0.54023996 0.54698072 0.56623382 0.55126239 0.54131037\n",
      " 0.53969028 0.56577093 0.54935298 0.53228414 0.52331573 0.5142461\n",
      " 0.50284756 0.49720617 0.50636258 0.49291002 0.48817989 0.50372992\n",
      " 0.32664768 0.31511897 0.31121338 0.30309844 0.28644905 0.27218642\n",
      " 0.28806916 0.27481908 0.28798237 0.28857542 0.29456399 0.2718682\n",
      " 0.26123632 0.24985226 0.25644836 0.2401172  0.25160253 0.27088456\n",
      " 0.26925    0.27510838 0.25576849 0.26486706 0.26901857 0.27059526\n",
      " 0.260325   0.2711594  0.27632345 0.28180575 0.2850604  0.2785077\n",
      " 0.29612623 0.28728803 0.28843907 0.28836462 0.28877267 0.2895022\n",
      " 0.29041845 0.29138499 0.2923035  0.29312313 0.29383329 0.29444933\n",
      " 0.29499793 0.29550582 0.29599386 0.29647511]\n",
      "14 day output [[0.29695508]]\n",
      "15 day input [0.62070955 0.58616679 0.59277737 0.58110399 0.58317249 0.59671189\n",
      " 0.58713593 0.56549609 0.57310477 0.58885728 0.57528897 0.55878428\n",
      " 0.56546717 0.54534616 0.53099672 0.56364455 0.56475835 0.57013939\n",
      " 0.55816225 0.54917941 0.53187911 0.52270822 0.5061167  0.49382133\n",
      " 0.51845547 0.51553348 0.49173835 0.4782713  0.49669988 0.51663284\n",
      " 0.53669599 0.55000393 0.54131037 0.55335986 0.54116571 0.54293046\n",
      " 0.54023996 0.54698072 0.56623382 0.55126239 0.54131037 0.53969028\n",
      " 0.56577093 0.54935298 0.53228414 0.52331573 0.5142461  0.50284756\n",
      " 0.49720617 0.50636258 0.49291002 0.48817989 0.50372992 0.32664768\n",
      " 0.31511897 0.31121338 0.30309844 0.28644905 0.27218642 0.28806916\n",
      " 0.27481908 0.28798237 0.28857542 0.29456399 0.2718682  0.26123632\n",
      " 0.24985226 0.25644836 0.2401172  0.25160253 0.27088456 0.26925\n",
      " 0.27510838 0.25576849 0.26486706 0.26901857 0.27059526 0.260325\n",
      " 0.2711594  0.27632345 0.28180575 0.2850604  0.2785077  0.29612623\n",
      " 0.28728803 0.28843907 0.28836462 0.28877267 0.2895022  0.29041845\n",
      " 0.29138499 0.2923035  0.29312313 0.29383329 0.29444933 0.29499793\n",
      " 0.29550582 0.29599386 0.29647511 0.29695508]\n",
      "15 day output [[0.2974345]]\n",
      "16 day input [0.58616679 0.59277737 0.58110399 0.58317249 0.59671189 0.58713593\n",
      " 0.56549609 0.57310477 0.58885728 0.57528897 0.55878428 0.56546717\n",
      " 0.54534616 0.53099672 0.56364455 0.56475835 0.57013939 0.55816225\n",
      " 0.54917941 0.53187911 0.52270822 0.5061167  0.49382133 0.51845547\n",
      " 0.51553348 0.49173835 0.4782713  0.49669988 0.51663284 0.53669599\n",
      " 0.55000393 0.54131037 0.55335986 0.54116571 0.54293046 0.54023996\n",
      " 0.54698072 0.56623382 0.55126239 0.54131037 0.53969028 0.56577093\n",
      " 0.54935298 0.53228414 0.52331573 0.5142461  0.50284756 0.49720617\n",
      " 0.50636258 0.49291002 0.48817989 0.50372992 0.32664768 0.31511897\n",
      " 0.31121338 0.30309844 0.28644905 0.27218642 0.28806916 0.27481908\n",
      " 0.28798237 0.28857542 0.29456399 0.2718682  0.26123632 0.24985226\n",
      " 0.25644836 0.2401172  0.25160253 0.27088456 0.26925    0.27510838\n",
      " 0.25576849 0.26486706 0.26901857 0.27059526 0.260325   0.2711594\n",
      " 0.27632345 0.28180575 0.2850604  0.2785077  0.29612623 0.28728803\n",
      " 0.28843907 0.28836462 0.28877267 0.2895022  0.29041845 0.29138499\n",
      " 0.2923035  0.29312313 0.29383329 0.29444933 0.29499793 0.29550582\n",
      " 0.29599386 0.29647511 0.29695508 0.29743451]\n"
     ]
    },
    {
     "name": "stdout",
     "output_type": "stream",
     "text": [
      "16 day output [[0.29791164]]\n",
      "17 day input [0.59277737 0.58110399 0.58317249 0.59671189 0.58713593 0.56549609\n",
      " 0.57310477 0.58885728 0.57528897 0.55878428 0.56546717 0.54534616\n",
      " 0.53099672 0.56364455 0.56475835 0.57013939 0.55816225 0.54917941\n",
      " 0.53187911 0.52270822 0.5061167  0.49382133 0.51845547 0.51553348\n",
      " 0.49173835 0.4782713  0.49669988 0.51663284 0.53669599 0.55000393\n",
      " 0.54131037 0.55335986 0.54116571 0.54293046 0.54023996 0.54698072\n",
      " 0.56623382 0.55126239 0.54131037 0.53969028 0.56577093 0.54935298\n",
      " 0.53228414 0.52331573 0.5142461  0.50284756 0.49720617 0.50636258\n",
      " 0.49291002 0.48817989 0.50372992 0.32664768 0.31511897 0.31121338\n",
      " 0.30309844 0.28644905 0.27218642 0.28806916 0.27481908 0.28798237\n",
      " 0.28857542 0.29456399 0.2718682  0.26123632 0.24985226 0.25644836\n",
      " 0.2401172  0.25160253 0.27088456 0.26925    0.27510838 0.25576849\n",
      " 0.26486706 0.26901857 0.27059526 0.260325   0.2711594  0.27632345\n",
      " 0.28180575 0.2850604  0.2785077  0.29612623 0.28728803 0.28843907\n",
      " 0.28836462 0.28877267 0.2895022  0.29041845 0.29138499 0.2923035\n",
      " 0.29312313 0.29383329 0.29444933 0.29499793 0.29550582 0.29599386\n",
      " 0.29647511 0.29695508 0.29743451 0.29791164]\n",
      "17 day output [[0.29838395]]\n",
      "18 day input [0.58110399 0.58317249 0.59671189 0.58713593 0.56549609 0.57310477\n",
      " 0.58885728 0.57528897 0.55878428 0.56546717 0.54534616 0.53099672\n",
      " 0.56364455 0.56475835 0.57013939 0.55816225 0.54917941 0.53187911\n",
      " 0.52270822 0.5061167  0.49382133 0.51845547 0.51553348 0.49173835\n",
      " 0.4782713  0.49669988 0.51663284 0.53669599 0.55000393 0.54131037\n",
      " 0.55335986 0.54116571 0.54293046 0.54023996 0.54698072 0.56623382\n",
      " 0.55126239 0.54131037 0.53969028 0.56577093 0.54935298 0.53228414\n",
      " 0.52331573 0.5142461  0.50284756 0.49720617 0.50636258 0.49291002\n",
      " 0.48817989 0.50372992 0.32664768 0.31511897 0.31121338 0.30309844\n",
      " 0.28644905 0.27218642 0.28806916 0.27481908 0.28798237 0.28857542\n",
      " 0.29456399 0.2718682  0.26123632 0.24985226 0.25644836 0.2401172\n",
      " 0.25160253 0.27088456 0.26925    0.27510838 0.25576849 0.26486706\n",
      " 0.26901857 0.27059526 0.260325   0.2711594  0.27632345 0.28180575\n",
      " 0.2850604  0.2785077  0.29612623 0.28728803 0.28843907 0.28836462\n",
      " 0.28877267 0.2895022  0.29041845 0.29138499 0.2923035  0.29312313\n",
      " 0.29383329 0.29444933 0.29499793 0.29550582 0.29599386 0.29647511\n",
      " 0.29695508 0.29743451 0.29791164 0.29838395]\n",
      "18 day output [[0.2988493]]\n",
      "19 day input [0.58317249 0.59671189 0.58713593 0.56549609 0.57310477 0.58885728\n",
      " 0.57528897 0.55878428 0.56546717 0.54534616 0.53099672 0.56364455\n",
      " 0.56475835 0.57013939 0.55816225 0.54917941 0.53187911 0.52270822\n",
      " 0.5061167  0.49382133 0.51845547 0.51553348 0.49173835 0.4782713\n",
      " 0.49669988 0.51663284 0.53669599 0.55000393 0.54131037 0.55335986\n",
      " 0.54116571 0.54293046 0.54023996 0.54698072 0.56623382 0.55126239\n",
      " 0.54131037 0.53969028 0.56577093 0.54935298 0.53228414 0.52331573\n",
      " 0.5142461  0.50284756 0.49720617 0.50636258 0.49291002 0.48817989\n",
      " 0.50372992 0.32664768 0.31511897 0.31121338 0.30309844 0.28644905\n",
      " 0.27218642 0.28806916 0.27481908 0.28798237 0.28857542 0.29456399\n",
      " 0.2718682  0.26123632 0.24985226 0.25644836 0.2401172  0.25160253\n",
      " 0.27088456 0.26925    0.27510838 0.25576849 0.26486706 0.26901857\n",
      " 0.27059526 0.260325   0.2711594  0.27632345 0.28180575 0.2850604\n",
      " 0.2785077  0.29612623 0.28728803 0.28843907 0.28836462 0.28877267\n",
      " 0.2895022  0.29041845 0.29138499 0.2923035  0.29312313 0.29383329\n",
      " 0.29444933 0.29499793 0.29550582 0.29599386 0.29647511 0.29695508\n",
      " 0.29743451 0.29791164 0.29838395 0.29884931]\n",
      "19 day output [[0.29930672]]\n",
      "20 day input [0.59671189 0.58713593 0.56549609 0.57310477 0.58885728 0.57528897\n",
      " 0.55878428 0.56546717 0.54534616 0.53099672 0.56364455 0.56475835\n",
      " 0.57013939 0.55816225 0.54917941 0.53187911 0.52270822 0.5061167\n",
      " 0.49382133 0.51845547 0.51553348 0.49173835 0.4782713  0.49669988\n",
      " 0.51663284 0.53669599 0.55000393 0.54131037 0.55335986 0.54116571\n",
      " 0.54293046 0.54023996 0.54698072 0.56623382 0.55126239 0.54131037\n",
      " 0.53969028 0.56577093 0.54935298 0.53228414 0.52331573 0.5142461\n",
      " 0.50284756 0.49720617 0.50636258 0.49291002 0.48817989 0.50372992\n",
      " 0.32664768 0.31511897 0.31121338 0.30309844 0.28644905 0.27218642\n",
      " 0.28806916 0.27481908 0.28798237 0.28857542 0.29456399 0.2718682\n",
      " 0.26123632 0.24985226 0.25644836 0.2401172  0.25160253 0.27088456\n",
      " 0.26925    0.27510838 0.25576849 0.26486706 0.26901857 0.27059526\n",
      " 0.260325   0.2711594  0.27632345 0.28180575 0.2850604  0.2785077\n",
      " 0.29612623 0.28728803 0.28843907 0.28836462 0.28877267 0.2895022\n",
      " 0.29041845 0.29138499 0.2923035  0.29312313 0.29383329 0.29444933\n",
      " 0.29499793 0.29550582 0.29599386 0.29647511 0.29695508 0.29743451\n",
      " 0.29791164 0.29838395 0.29884931 0.29930672]\n",
      "20 day output [[0.29975602]]\n",
      "21 day input [0.58713593 0.56549609 0.57310477 0.58885728 0.57528897 0.55878428\n",
      " 0.56546717 0.54534616 0.53099672 0.56364455 0.56475835 0.57013939\n",
      " 0.55816225 0.54917941 0.53187911 0.52270822 0.5061167  0.49382133\n",
      " 0.51845547 0.51553348 0.49173835 0.4782713  0.49669988 0.51663284\n",
      " 0.53669599 0.55000393 0.54131037 0.55335986 0.54116571 0.54293046\n",
      " 0.54023996 0.54698072 0.56623382 0.55126239 0.54131037 0.53969028\n",
      " 0.56577093 0.54935298 0.53228414 0.52331573 0.5142461  0.50284756\n",
      " 0.49720617 0.50636258 0.49291002 0.48817989 0.50372992 0.32664768\n",
      " 0.31511897 0.31121338 0.30309844 0.28644905 0.27218642 0.28806916\n",
      " 0.27481908 0.28798237 0.28857542 0.29456399 0.2718682  0.26123632\n",
      " 0.24985226 0.25644836 0.2401172  0.25160253 0.27088456 0.26925\n",
      " 0.27510838 0.25576849 0.26486706 0.26901857 0.27059526 0.260325\n",
      " 0.2711594  0.27632345 0.28180575 0.2850604  0.2785077  0.29612623\n",
      " 0.28728803 0.28843907 0.28836462 0.28877267 0.2895022  0.29041845\n",
      " 0.29138499 0.2923035  0.29312313 0.29383329 0.29444933 0.29499793\n",
      " 0.29550582 0.29599386 0.29647511 0.29695508 0.29743451 0.29791164\n",
      " 0.29838395 0.29884931 0.29930672 0.29975602]\n",
      "21 day output [[0.30019757]]\n",
      "22 day input [0.56549609 0.57310477 0.58885728 0.57528897 0.55878428 0.56546717\n",
      " 0.54534616 0.53099672 0.56364455 0.56475835 0.57013939 0.55816225\n",
      " 0.54917941 0.53187911 0.52270822 0.5061167  0.49382133 0.51845547\n",
      " 0.51553348 0.49173835 0.4782713  0.49669988 0.51663284 0.53669599\n",
      " 0.55000393 0.54131037 0.55335986 0.54116571 0.54293046 0.54023996\n",
      " 0.54698072 0.56623382 0.55126239 0.54131037 0.53969028 0.56577093\n",
      " 0.54935298 0.53228414 0.52331573 0.5142461  0.50284756 0.49720617\n",
      " 0.50636258 0.49291002 0.48817989 0.50372992 0.32664768 0.31511897\n",
      " 0.31121338 0.30309844 0.28644905 0.27218642 0.28806916 0.27481908\n",
      " 0.28798237 0.28857542 0.29456399 0.2718682  0.26123632 0.24985226\n",
      " 0.25644836 0.2401172  0.25160253 0.27088456 0.26925    0.27510838\n",
      " 0.25576849 0.26486706 0.26901857 0.27059526 0.260325   0.2711594\n",
      " 0.27632345 0.28180575 0.2850604  0.2785077  0.29612623 0.28728803\n",
      " 0.28843907 0.28836462 0.28877267 0.2895022  0.29041845 0.29138499\n",
      " 0.2923035  0.29312313 0.29383329 0.29444933 0.29499793 0.29550582\n",
      " 0.29599386 0.29647511 0.29695508 0.29743451 0.29791164 0.29838395\n",
      " 0.29884931 0.29930672 0.29975602 0.30019757]\n",
      "22 day output [[0.30063218]]\n",
      "23 day input [0.57310477 0.58885728 0.57528897 0.55878428 0.56546717 0.54534616\n",
      " 0.53099672 0.56364455 0.56475835 0.57013939 0.55816225 0.54917941\n",
      " 0.53187911 0.52270822 0.5061167  0.49382133 0.51845547 0.51553348\n",
      " 0.49173835 0.4782713  0.49669988 0.51663284 0.53669599 0.55000393\n",
      " 0.54131037 0.55335986 0.54116571 0.54293046 0.54023996 0.54698072\n",
      " 0.56623382 0.55126239 0.54131037 0.53969028 0.56577093 0.54935298\n",
      " 0.53228414 0.52331573 0.5142461  0.50284756 0.49720617 0.50636258\n",
      " 0.49291002 0.48817989 0.50372992 0.32664768 0.31511897 0.31121338\n",
      " 0.30309844 0.28644905 0.27218642 0.28806916 0.27481908 0.28798237\n",
      " 0.28857542 0.29456399 0.2718682  0.26123632 0.24985226 0.25644836\n",
      " 0.2401172  0.25160253 0.27088456 0.26925    0.27510838 0.25576849\n",
      " 0.26486706 0.26901857 0.27059526 0.260325   0.2711594  0.27632345\n",
      " 0.28180575 0.2850604  0.2785077  0.29612623 0.28728803 0.28843907\n",
      " 0.28836462 0.28877267 0.2895022  0.29041845 0.29138499 0.2923035\n",
      " 0.29312313 0.29383329 0.29444933 0.29499793 0.29550582 0.29599386\n",
      " 0.29647511 0.29695508 0.29743451 0.29791164 0.29838395 0.29884931\n",
      " 0.29930672 0.29975602 0.30019757 0.30063218]\n",
      "23 day output [[0.30106056]]\n",
      "24 day input [0.58885728 0.57528897 0.55878428 0.56546717 0.54534616 0.53099672\n",
      " 0.56364455 0.56475835 0.57013939 0.55816225 0.54917941 0.53187911\n",
      " 0.52270822 0.5061167  0.49382133 0.51845547 0.51553348 0.49173835\n",
      " 0.4782713  0.49669988 0.51663284 0.53669599 0.55000393 0.54131037\n",
      " 0.55335986 0.54116571 0.54293046 0.54023996 0.54698072 0.56623382\n",
      " 0.55126239 0.54131037 0.53969028 0.56577093 0.54935298 0.53228414\n",
      " 0.52331573 0.5142461  0.50284756 0.49720617 0.50636258 0.49291002\n",
      " 0.48817989 0.50372992 0.32664768 0.31511897 0.31121338 0.30309844\n",
      " 0.28644905 0.27218642 0.28806916 0.27481908 0.28798237 0.28857542\n",
      " 0.29456399 0.2718682  0.26123632 0.24985226 0.25644836 0.2401172\n",
      " 0.25160253 0.27088456 0.26925    0.27510838 0.25576849 0.26486706\n",
      " 0.26901857 0.27059526 0.260325   0.2711594  0.27632345 0.28180575\n",
      " 0.2850604  0.2785077  0.29612623 0.28728803 0.28843907 0.28836462\n",
      " 0.28877267 0.2895022  0.29041845 0.29138499 0.2923035  0.29312313\n",
      " 0.29383329 0.29444933 0.29499793 0.29550582 0.29599386 0.29647511\n",
      " 0.29695508 0.29743451 0.29791164 0.29838395 0.29884931 0.29930672\n",
      " 0.29975602 0.30019757 0.30063218 0.30106056]\n"
     ]
    },
    {
     "name": "stdout",
     "output_type": "stream",
     "text": [
      "24 day output [[0.30148324]]\n",
      "25 day input [0.57528897 0.55878428 0.56546717 0.54534616 0.53099672 0.56364455\n",
      " 0.56475835 0.57013939 0.55816225 0.54917941 0.53187911 0.52270822\n",
      " 0.5061167  0.49382133 0.51845547 0.51553348 0.49173835 0.4782713\n",
      " 0.49669988 0.51663284 0.53669599 0.55000393 0.54131037 0.55335986\n",
      " 0.54116571 0.54293046 0.54023996 0.54698072 0.56623382 0.55126239\n",
      " 0.54131037 0.53969028 0.56577093 0.54935298 0.53228414 0.52331573\n",
      " 0.5142461  0.50284756 0.49720617 0.50636258 0.49291002 0.48817989\n",
      " 0.50372992 0.32664768 0.31511897 0.31121338 0.30309844 0.28644905\n",
      " 0.27218642 0.28806916 0.27481908 0.28798237 0.28857542 0.29456399\n",
      " 0.2718682  0.26123632 0.24985226 0.25644836 0.2401172  0.25160253\n",
      " 0.27088456 0.26925    0.27510838 0.25576849 0.26486706 0.26901857\n",
      " 0.27059526 0.260325   0.2711594  0.27632345 0.28180575 0.2850604\n",
      " 0.2785077  0.29612623 0.28728803 0.28843907 0.28836462 0.28877267\n",
      " 0.2895022  0.29041845 0.29138499 0.2923035  0.29312313 0.29383329\n",
      " 0.29444933 0.29499793 0.29550582 0.29599386 0.29647511 0.29695508\n",
      " 0.29743451 0.29791164 0.29838395 0.29884931 0.29930672 0.29975602\n",
      " 0.30019757 0.30063218 0.30106056 0.30148324]\n",
      "25 day output [[0.30190066]]\n",
      "26 day input [0.55878428 0.56546717 0.54534616 0.53099672 0.56364455 0.56475835\n",
      " 0.57013939 0.55816225 0.54917941 0.53187911 0.52270822 0.5061167\n",
      " 0.49382133 0.51845547 0.51553348 0.49173835 0.4782713  0.49669988\n",
      " 0.51663284 0.53669599 0.55000393 0.54131037 0.55335986 0.54116571\n",
      " 0.54293046 0.54023996 0.54698072 0.56623382 0.55126239 0.54131037\n",
      " 0.53969028 0.56577093 0.54935298 0.53228414 0.52331573 0.5142461\n",
      " 0.50284756 0.49720617 0.50636258 0.49291002 0.48817989 0.50372992\n",
      " 0.32664768 0.31511897 0.31121338 0.30309844 0.28644905 0.27218642\n",
      " 0.28806916 0.27481908 0.28798237 0.28857542 0.29456399 0.2718682\n",
      " 0.26123632 0.24985226 0.25644836 0.2401172  0.25160253 0.27088456\n",
      " 0.26925    0.27510838 0.25576849 0.26486706 0.26901857 0.27059526\n",
      " 0.260325   0.2711594  0.27632345 0.28180575 0.2850604  0.2785077\n",
      " 0.29612623 0.28728803 0.28843907 0.28836462 0.28877267 0.2895022\n",
      " 0.29041845 0.29138499 0.2923035  0.29312313 0.29383329 0.29444933\n",
      " 0.29499793 0.29550582 0.29599386 0.29647511 0.29695508 0.29743451\n",
      " 0.29791164 0.29838395 0.29884931 0.29930672 0.29975602 0.30019757\n",
      " 0.30063218 0.30106056 0.30148324 0.30190066]\n",
      "26 day output [[0.30231288]]\n",
      "27 day input [0.56546717 0.54534616 0.53099672 0.56364455 0.56475835 0.57013939\n",
      " 0.55816225 0.54917941 0.53187911 0.52270822 0.5061167  0.49382133\n",
      " 0.51845547 0.51553348 0.49173835 0.4782713  0.49669988 0.51663284\n",
      " 0.53669599 0.55000393 0.54131037 0.55335986 0.54116571 0.54293046\n",
      " 0.54023996 0.54698072 0.56623382 0.55126239 0.54131037 0.53969028\n",
      " 0.56577093 0.54935298 0.53228414 0.52331573 0.5142461  0.50284756\n",
      " 0.49720617 0.50636258 0.49291002 0.48817989 0.50372992 0.32664768\n",
      " 0.31511897 0.31121338 0.30309844 0.28644905 0.27218642 0.28806916\n",
      " 0.27481908 0.28798237 0.28857542 0.29456399 0.2718682  0.26123632\n",
      " 0.24985226 0.25644836 0.2401172  0.25160253 0.27088456 0.26925\n",
      " 0.27510838 0.25576849 0.26486706 0.26901857 0.27059526 0.260325\n",
      " 0.2711594  0.27632345 0.28180575 0.2850604  0.2785077  0.29612623\n",
      " 0.28728803 0.28843907 0.28836462 0.28877267 0.2895022  0.29041845\n",
      " 0.29138499 0.2923035  0.29312313 0.29383329 0.29444933 0.29499793\n",
      " 0.29550582 0.29599386 0.29647511 0.29695508 0.29743451 0.29791164\n",
      " 0.29838395 0.29884931 0.29930672 0.29975602 0.30019757 0.30063218\n",
      " 0.30106056 0.30148324 0.30190066 0.30231288]\n",
      "27 day output [[0.30271995]]\n",
      "28 day input [0.54534616 0.53099672 0.56364455 0.56475835 0.57013939 0.55816225\n",
      " 0.54917941 0.53187911 0.52270822 0.5061167  0.49382133 0.51845547\n",
      " 0.51553348 0.49173835 0.4782713  0.49669988 0.51663284 0.53669599\n",
      " 0.55000393 0.54131037 0.55335986 0.54116571 0.54293046 0.54023996\n",
      " 0.54698072 0.56623382 0.55126239 0.54131037 0.53969028 0.56577093\n",
      " 0.54935298 0.53228414 0.52331573 0.5142461  0.50284756 0.49720617\n",
      " 0.50636258 0.49291002 0.48817989 0.50372992 0.32664768 0.31511897\n",
      " 0.31121338 0.30309844 0.28644905 0.27218642 0.28806916 0.27481908\n",
      " 0.28798237 0.28857542 0.29456399 0.2718682  0.26123632 0.24985226\n",
      " 0.25644836 0.2401172  0.25160253 0.27088456 0.26925    0.27510838\n",
      " 0.25576849 0.26486706 0.26901857 0.27059526 0.260325   0.2711594\n",
      " 0.27632345 0.28180575 0.2850604  0.2785077  0.29612623 0.28728803\n",
      " 0.28843907 0.28836462 0.28877267 0.2895022  0.29041845 0.29138499\n",
      " 0.2923035  0.29312313 0.29383329 0.29444933 0.29499793 0.29550582\n",
      " 0.29599386 0.29647511 0.29695508 0.29743451 0.29791164 0.29838395\n",
      " 0.29884931 0.29930672 0.29975602 0.30019757 0.30063218 0.30106056\n",
      " 0.30148324 0.30190066 0.30231288 0.30271995]\n",
      "28 day output [[0.30312172]]\n",
      "29 day input [0.53099672 0.56364455 0.56475835 0.57013939 0.55816225 0.54917941\n",
      " 0.53187911 0.52270822 0.5061167  0.49382133 0.51845547 0.51553348\n",
      " 0.49173835 0.4782713  0.49669988 0.51663284 0.53669599 0.55000393\n",
      " 0.54131037 0.55335986 0.54116571 0.54293046 0.54023996 0.54698072\n",
      " 0.56623382 0.55126239 0.54131037 0.53969028 0.56577093 0.54935298\n",
      " 0.53228414 0.52331573 0.5142461  0.50284756 0.49720617 0.50636258\n",
      " 0.49291002 0.48817989 0.50372992 0.32664768 0.31511897 0.31121338\n",
      " 0.30309844 0.28644905 0.27218642 0.28806916 0.27481908 0.28798237\n",
      " 0.28857542 0.29456399 0.2718682  0.26123632 0.24985226 0.25644836\n",
      " 0.2401172  0.25160253 0.27088456 0.26925    0.27510838 0.25576849\n",
      " 0.26486706 0.26901857 0.27059526 0.260325   0.2711594  0.27632345\n",
      " 0.28180575 0.2850604  0.2785077  0.29612623 0.28728803 0.28843907\n",
      " 0.28836462 0.28877267 0.2895022  0.29041845 0.29138499 0.2923035\n",
      " 0.29312313 0.29383329 0.29444933 0.29499793 0.29550582 0.29599386\n",
      " 0.29647511 0.29695508 0.29743451 0.29791164 0.29838395 0.29884931\n",
      " 0.29930672 0.29975602 0.30019757 0.30063218 0.30106056 0.30148324\n",
      " 0.30190066 0.30231288 0.30271995 0.30312172]\n",
      "29 day output [[0.3035182]]\n",
      "[[0.2884390652179718], [0.28836461901664734], [0.28877267241477966], [0.28950220346450806], [0.29041844606399536], [0.2913849949836731], [0.29230350255966187], [0.29312312602996826], [0.29383328557014465], [0.2944493293762207], [0.2949979305267334], [0.2955058217048645], [0.2959938645362854], [0.2964751124382019], [0.29695507884025574], [0.2974345088005066], [0.2979116439819336], [0.2983839511871338], [0.29884931445121765], [0.299306720495224], [0.2997560203075409], [0.300197571516037], [0.30063217878341675], [0.3010605573654175], [0.30148324370384216], [0.3019006550312042], [0.3023128807544708], [0.30271995067596436], [0.3031217157840729], [0.3035182058811188]]\n"
     ]
    }
   ],
   "source": [
    "output1=[]\n",
    "n_steps=100\n",
    "i=0\n",
    "while(i<30):\n",
    "    if(len(temp_input)>100):\n",
    "        x_input = np.array(temp_input[1:])\n",
    "        print(\"{} day input {}\".format(i,x_input))\n",
    "        x_input = x_input.reshape(1, -1)\n",
    "        x_input = x_input.reshape((1, n_steps, 1))\n",
    "        yhat = model.predict(x_input, verbose=0)\n",
    "        print(\"{} day output {}\".format(i,yhat))\n",
    "        temp_input.extend(yhat[0].tolist())\n",
    "        temp_input = temp_input[1:]\n",
    "        output1.extend(yhat.tolist())\n",
    "        i=i+1\n",
    "    else:\n",
    "        x_input = x_input.reshape((1, n_steps, 1))\n",
    "        yhat = model.predict(x_input, verbose=0)\n",
    "        print(yhat[0])\n",
    "        temp_input.extend(yhat[0].tolist())\n",
    "        print(len(temp_input))\n",
    "        output1.extend(yhat.tolist())\n",
    "        i=i+1\n",
    "print(output1)"
   ]
  },
  {
   "cell_type": "code",
   "execution_count": 33,
   "id": "d87a7486",
   "metadata": {},
   "outputs": [],
   "source": [
    "day_new = np.arange(1, 101)\n",
    "day_pred = np.arange(101, 131)"
   ]
  },
  {
   "cell_type": "code",
   "execution_count": 34,
   "id": "39150a1d",
   "metadata": {},
   "outputs": [
    {
     "data": {
      "text/plain": [
       "5044"
      ]
     },
     "execution_count": 34,
     "metadata": {},
     "output_type": "execute_result"
    }
   ],
   "source": [
    "len(nflx1)"
   ]
  },
  {
   "cell_type": "markdown",
   "id": "205588da",
   "metadata": {},
   "source": [
    "#### Graph of actual values in last 100 days"
   ]
  },
  {
   "cell_type": "code",
   "execution_count": 35,
   "id": "3fbb5cda",
   "metadata": {},
   "outputs": [
    {
     "data": {
      "image/png": "[encoded data removed]",
      "text/plain": [
       "<Figure size 640x480 with 1 Axes>"
      ]
     },
     "metadata": {},
     "output_type": "display_data"
    }
   ],
   "source": [
    "plt.plot(day_new, scaler.inverse_transform(nflx1[4944:]))\n",
    "plt.plot(day_pred, scaler.inverse_transform(output1));"
   ]
  },
  {
   "cell_type": "code",
   "execution_count": 36,
   "id": "1e9e7631",
   "metadata": {},
   "outputs": [
    {
     "data": {
      "image/png": "[encoded data removed]",
      "text/plain": [
       "<Figure size 640x480 with 1 Axes>"
      ]
     },
     "metadata": {},
     "output_type": "display_data"
    }
   ],
   "source": [
    "nflx2 = nflx1.tolist()\n",
    "nflx2.extend(output1)\n",
    "plt.plot(nflx2[1000:]);"
   ]
  },
  {
   "cell_type": "code",
   "execution_count": 37,
   "id": "bdf40150",
   "metadata": {},
   "outputs": [
    {
     "data": {
      "image/png": "[encoded data removed]",
      "text/plain": [
       "<Figure size 640x480 with 1 Axes>"
      ]
     },
     "metadata": {},
     "output_type": "display_data"
    }
   ],
   "source": [
    "nflx2 = scaler.inverse_transform(nflx2).tolist()\n",
    "plt.plot(nflx2);"
   ]
  },
  {
   "cell_type": "markdown",
   "id": "55ee9cda",
   "metadata": {},
   "source": [
    "# Thankyou"
   ]
  },
  {
   "cell_type": "code",
   "execution_count": null,
   "id": "0f45d7ba",
   "metadata": {},
   "outputs": [],
   "source": []
  }
 ],
 "metadata": {
  "kernelspec": {
   "display_name": "Python 3 (ipykernel)",
   "language": "python",
   "name": "python3"
  },
  "language_info": {
   "codemirror_mode": {
    "name": "ipython",
    "version": 3
   },
   "file_extension": ".py",
   "mimetype": "text/x-python",
   "name": "python",
   "nbconvert_exporter": "python",
   "pygments_lexer": "ipython3",
   "version": "3.10.13"
  }
 },
 "nbformat": 4,
 "nbformat_minor": 5
}
